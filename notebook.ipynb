{
 "cells": [
  {
   "cell_type": "code",
   "execution_count": 4,
   "metadata": {},
   "outputs": [
    {
     "name": "stdout",
     "output_type": "stream",
     "text": [
      "1\n",
      "2\n",
      "3\n",
      "4\n",
      "5\n",
      "6\n",
      "7\n",
      "8\n",
      "9\n",
      "10\n",
      "done\n"
     ]
    }
   ],
   "source": [
    "i = 1\n",
    "while i <= 10:\n",
    "    print(i)\n",
    "    i += 1\n",
    "print('done')"
   ]
  },
  {
   "cell_type": "code",
   "execution_count": 9,
   "metadata": {},
   "outputs": [
    {
     "name": "stdout",
     "output_type": "stream",
     "text": [
      "3\n",
      "[1, 2, 3]\n",
      "[4, 5, 6]\n",
      "[7, 8, 9]\n",
      "[0]\n"
     ]
    }
   ],
   "source": [
    "# Nested\n",
    "number_grid = [\n",
    "    [1,2,3],\n",
    "    [4,5,6],\n",
    "    [7,8,9],\n",
    "    [0]\n",
    "]\n",
    "\n",
    "print(number_grid[0][2])\n",
    "\n",
    "for row in number_grid:\n",
    "    print(row)"
   ]
  },
  {
   "cell_type": "code",
   "execution_count": 12,
   "metadata": {},
   "outputs": [
    {
     "name": "stdout",
     "output_type": "stream",
     "text": [
      "[1, 2, 3]\n",
      "1\n",
      "2\n",
      "3\n",
      "[4, 5, 6]\n",
      "4\n",
      "5\n",
      "6\n",
      "[7, 8, 9]\n",
      "7\n",
      "8\n",
      "9\n",
      "[0]\n",
      "0\n"
     ]
    }
   ],
   "source": [
    "for row in number_grid:\n",
    "    print(row)\n",
    "    for col in row:\n",
    "        print(col)"
   ]
  },
  {
   "cell_type": "code",
   "execution_count": 20,
   "metadata": {},
   "outputs": [
    {
     "name": "stdout",
     "output_type": "stream",
     "text": [
      "Jim - Salesman\n",
      "\n",
      "Dwight - Salesman\n",
      "\n",
      "Pam - Receptionist\n",
      "\n",
      "Michael - Manager\n",
      "\n",
      "Oscar - Accountant\n"
     ]
    }
   ],
   "source": [
    "# Opening files, r = read, w = write, a = append to end\n",
    "# r+ = read/write\n",
    "\n",
    "employee_file = open(\"employees.txt\", \"r\")\n",
    "#print(employee_file.readable())\n",
    "\n",
    "#print(employee_file.readline())\n",
    "\n",
    "#print(employee_file.read())\n",
    "\n",
    "#print(employee_file.readlines())\n",
    "\n",
    "for e in employee_file.readlines():\n",
    "    print(e)\n",
    "\n",
    "employee_file.close()"
   ]
  },
  {
   "cell_type": "code",
   "execution_count": null,
   "metadata": {},
   "outputs": [],
   "source": []
  }
 ],
 "metadata": {
  "interpreter": {
   "hash": "616f6a4f92179ca46708cb1cb1765744fb1d4de925297a50ffbc1c3a0a4f2fe0"
  },
  "kernelspec": {
   "display_name": "Python 3.9.7 ('DataEngineering')",
   "language": "python",
   "name": "python3"
  },
  "language_info": {
   "codemirror_mode": {
    "name": "ipython",
    "version": 3
   },
   "file_extension": ".py",
   "mimetype": "text/x-python",
   "name": "python",
   "nbconvert_exporter": "python",
   "pygments_lexer": "ipython3",
   "version": "3.9.7"
  },
  "orig_nbformat": 4
 },
 "nbformat": 4,
 "nbformat_minor": 2
}
