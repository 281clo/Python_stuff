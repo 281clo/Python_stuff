{
 "cells": [
  {
   "cell_type": "markdown",
   "metadata": {},
   "source": [
    "Lists: ordered, mutable, allows duplicate elements\n",
    "\n",
    "Tuples: ordered, imutable, allows duplicate elements\n",
    "\n",
    "Dict: Key-Value pairs, unordered, mutable\n",
    "\n",
    "Sets: unordered, mutable, no duplicates\n",
    "\n",
    "Strings: ordered, imutable, text representation\n",
    "\n",
    "immutable(cannot be altered from index Ex. string[0] = 'x')\n",
    "(Strings & Tuples)"
   ]
  },
  {
   "cell_type": "markdown",
   "metadata": {},
   "source": [
    "# Strings"
   ]
  },
  {
   "cell_type": "code",
   "execution_count": 95,
   "metadata": {},
   "outputs": [
    {
     "name": "stdout",
     "output_type": "stream",
     "text": [
      "Yes \n",
      "\n",
      "dlroW olleH \n",
      "\n",
      "['Hello', 'World'] \n",
      "\n",
      "3 \n",
      "\n",
      "0 \n",
      "\n",
      "Hello Universe \n",
      "\n",
      "howareyoudoing\n"
     ]
    }
   ],
   "source": [
    "my_string = 'Hello World'\n",
    "list1 = ['how', 'are', 'you', 'doing']\n",
    "\n",
    "\n",
    "if 'ell' in my_string:\n",
    "    print('Yes', '\\n')\n",
    "else:\n",
    "    print('No')\n",
    "\n",
    "print(my_string[::-1], '\\n') # reverse string\n",
    "print(my_string.split(), '\\n') # Splits at space\n",
    "print(my_string.find('lo'), '\\n') # finds index of string\n",
    "print(my_string.count('p'), '\\n') # counts elements\n",
    "print(my_string.replace('World', 'Universe'), '\\n')\n",
    "print(''.join(list1)) # join list to a string\n",
    "\n",
    "\n"
   ]
  },
  {
   "cell_type": "code",
   "execution_count": 111,
   "metadata": {},
   "outputs": [
    {
     "name": "stdout",
     "output_type": "stream",
     "text": [
      "the variable is Tom \n",
      " the variable is 3 \n",
      " the variable is 3.86 \n",
      " the variable is Tom and 3 and 3.86\n"
     ]
    }
   ],
   "source": [
    "# Inserting variables in strings\n",
    "\n",
    "var = \"Tom\"\n",
    "intvar = 3\n",
    "fltvar = 3.864656\n",
    "\n",
    "# old python\n",
    "my_string = \"the variable is %s\" % var \n",
    "my_string2 = \"the variable is %d\" % intvar\n",
    "my_string3 = \"the variable is %.2f\" % fltvar\n",
    "# or newer way\n",
    "my_string4 = f\"the variable is {var} and {intvar} and {fltvar:.2f}\"\n",
    "\n",
    "print(my_string,'\\n',my_string2, '\\n', my_string3, '\\n', my_string4)"
   ]
  },
  {
   "cell_type": "markdown",
   "metadata": {},
   "source": [
    "# Lists"
   ]
  },
  {
   "cell_type": "code",
   "execution_count": 23,
   "metadata": {},
   "outputs": [],
   "source": [
    "my_list = [1,2,3,4,5,6,7]\n",
    "\n",
    "#copy methods\n",
    "cpy_list = my_list[:]\n",
    "cpy_list2 = my_list.copy()\n",
    "cpy_list3 = list(my_list)\n",
    "# Not copy, exact match\n",
    "cpy_list4 = my_list"
   ]
  },
  {
   "cell_type": "code",
   "execution_count": 24,
   "metadata": {},
   "outputs": [
    {
     "name": "stdout",
     "output_type": "stream",
     "text": [
      "[1, 2, 3, 4, 5, 6, 7] [1, 4, 9, 16, 25, 36, 49]\n"
     ]
    }
   ],
   "source": [
    "mylist = [1,2,3,4,5,6,7]\n",
    "b = [i*i for i in mylist]\n",
    "\n",
    "print(mylist, b)\n"
   ]
  },
  {
   "cell_type": "markdown",
   "metadata": {},
   "source": [
    "# Tuples"
   ]
  },
  {
   "cell_type": "code",
   "execution_count": 151,
   "metadata": {},
   "outputs": [
    {
     "name": "stdout",
     "output_type": "stream",
     "text": [
      "Yes\n",
      "0\n",
      "2\n",
      "\n",
      " 1\n",
      "Max 28 Boston\n"
     ]
    }
   ],
   "source": [
    "mytuple = tuple([\"Max\", 28, \"Boston\"])\n",
    "\n",
    "mytuple2 = ('a', 'p', 'p', 'l', 'e')\n",
    "# Cannot assign tuples like ''mytuple[0] = \"Tim\"''\n",
    "# Easy check tuple\n",
    "if \"Max\" in mytuple:\n",
    "    print(\"Yes\")\n",
    "else:\n",
    "    print(\"No\")\n",
    "\n",
    "print(mytuple2.count('o')) # Count elements in tuple\n",
    "print(mytuple2.count('p'))\n",
    "print(\"\\n\", mytuple2.index('p')) #Find index of first instance\n",
    "\n",
    "name, age, city = mytuple # setting tuples to variables\n",
    "print(name, age, city)"
   ]
  },
  {
   "cell_type": "code",
   "execution_count": 31,
   "metadata": {},
   "outputs": [
    {
     "name": "stdout",
     "output_type": "stream",
     "text": [
      "0\n",
      "[1, 2, 3]\n",
      "4\n",
      "\n",
      "\n",
      "0.007545399999798974\n",
      "0.0008022000001801644\n"
     ]
    }
   ],
   "source": [
    "my_tuple = [0,1,2,3,4]\n",
    "\n",
    "i1, *i2, i3 = my_tuple\n",
    "\n",
    "print(i1)\n",
    "print(i2)\n",
    "print(i3)\n",
    "\n",
    "#Tuples are much more efffiencent than lists\n",
    "import timeit\n",
    "\n",
    "print(\"\\n\")\n",
    "print(timeit.timeit(stmt=\"[0,1,2,3,4,5]\", number=100000))\n",
    "print(timeit.timeit(stmt=\"(0,1,2,3,4,5)\", number=100000))"
   ]
  },
  {
   "cell_type": "markdown",
   "metadata": {},
   "source": [
    "# Dictionaries"
   ]
  },
  {
   "cell_type": "code",
   "execution_count": 61,
   "metadata": {},
   "outputs": [
    {
     "name": "stdout",
     "output_type": "stream",
     "text": [
      "{'name': 'Max', 'age': 28, 'city': 'New York'} \n",
      "\n",
      "Max \n",
      "\n",
      "name\n",
      "age\n",
      "city\n",
      "\n",
      "\n",
      "Max\n",
      "28\n",
      "New York\n",
      "\n",
      "\n",
      "name Max\n",
      "age 28\n",
      "city New York\n",
      "\n",
      "\n",
      "name Max\n"
     ]
    },
    {
     "data": {
      "text/plain": [
       "'Max'"
      ]
     },
     "execution_count": 61,
     "metadata": {},
     "output_type": "execute_result"
    }
   ],
   "source": [
    "mydict = {\"name\": \"Max\", \"age\": 28, \"city\": \"New York\"}\n",
    "print(mydict, \"\\n\")\n",
    "\n",
    "try:\n",
    "    print(mydict[\"name\"],\"\\n\")\n",
    "except:\n",
    "    print(\"Error\")\n",
    "\n",
    "\n",
    "for key in mydict:\n",
    "    print(key)\n",
    "print(\"\\n\")\n",
    "for value in mydict.values():\n",
    "    print(value)\n",
    "print(\"\\n\")\n",
    "for key,value in mydict.items():\n",
    "    print(key, value)\n",
    "print(\"\\n\")\n",
    "for key,value in mydict.items():\n",
    "    if \"Max\" == value:\n",
    "        print(key, value)\n",
    "    else:\n",
    "        continue\n",
    "\n",
    "# Accessing dict\n",
    "mydict.get(\"name\")\n"
   ]
  },
  {
   "cell_type": "code",
   "execution_count": 46,
   "metadata": {},
   "outputs": [
    {
     "name": "stdout",
     "output_type": "stream",
     "text": [
      "{'name': 'Mary', 'age': 28, 'Email': 'email@eail.com', 'city': 'Boston'}\n"
     ]
    }
   ],
   "source": [
    "# Updating dictionaries\n",
    "mydict = {\"name\": \"Max\", \"age\": 28, \"Email\": \"email@eail.com\"}\n",
    "my_dict2 = {\"name\":\"Mary\", \"city\":\"Boston\"}\n",
    "# Or \n",
    "my_dict2ALT = dict(name=\"Mary\", city=\"Boston\")\n",
    "\n",
    "mydict.update(my_dict2)\n",
    "print(mydict)"
   ]
  },
  {
   "cell_type": "code",
   "execution_count": 60,
   "metadata": {},
   "outputs": [
    {
     "data": {
      "text/plain": [
       "'Max'"
      ]
     },
     "execution_count": 60,
     "metadata": {},
     "output_type": "execute_result"
    }
   ],
   "source": [
    "# Accessing dict\n",
    "mydict.get(\"name\")"
   ]
  },
  {
   "cell_type": "markdown",
   "metadata": {},
   "source": [
    "# Sets"
   ]
  },
  {
   "cell_type": "code",
   "execution_count": 77,
   "metadata": {},
   "outputs": [
    {
     "name": "stdout",
     "output_type": "stream",
     "text": [
      "{'H', 'o', 'l', 'e'}\n",
      "{1, 2, 'H', 'e', 'l', 'o'}\n",
      "\n",
      "\n",
      "{1, 'H', 'e', 'l', 'o'}\n",
      "yes\n",
      "\n",
      "{0, 1, 2, 3, 4, 5, 6, 7, 8, 9} Union of odds and evens\n",
      "\n",
      "{3, 5, 7} Intersection of odds and primes\n",
      "\n",
      "{4, 5, 6, 7, 8, 9} Difference of A - B\n",
      "\n",
      "{4, 5, 6, 7, 8, 9, 10, 11, 12} No matching in either elements A or B\n"
     ]
    }
   ],
   "source": [
    "myset = set(\"Hello\")\n",
    "print(myset)\n",
    "\n",
    "myset.add(1)\n",
    "myset.add(2)\n",
    "\n",
    "print(myset)\n",
    "myset.remove(2)\n",
    "print(\"\\n\")\n",
    "print(myset)\n",
    "\n",
    "if 1 in myset:\n",
    "    print('yes\\n')\n",
    "\n",
    "odds = {1,3,5,7,9}\n",
    "evens = {0,2,4,6,8}\n",
    "primes = {2,3,5,7}\n",
    "\n",
    "#Combine numbers\n",
    "u = odds.union(evens)\n",
    "print(u, \"Union of odds and evens\\n\")\n",
    "\n",
    "# Same numbers\n",
    "i = odds.intersection(primes)\n",
    "print(i, \"Intersection of odds and primes\\n\")\n",
    "\n",
    "setA = {1,2,3,4,5,6,7,8,9}\n",
    "setB = {1,2,3,10,11,12}\n",
    "# Difference of sets\n",
    "diff = setA.difference(setB)\n",
    "print(diff, \"Difference of A - B\\n\")\n",
    "# Symmetric Difference\n",
    "diff2 = setA.symmetric_difference(setB)\n",
    "print(diff2, \"No matching in either elements A or B\")\n",
    "\n",
    "\n"
   ]
  },
  {
   "cell_type": "markdown",
   "metadata": {},
   "source": [
    "# Collections"
   ]
  },
  {
   "cell_type": "code",
   "execution_count": 128,
   "metadata": {},
   "outputs": [
    {
     "name": "stdout",
     "output_type": "stream",
     "text": [
      "Counter({'a': 5, 'b': 4, 'c': 3})\n",
      "[('a', 5), ('b', 4), ('c', 3)]\n",
      "['a', 'a', 'a', 'a', 'a', 'b', 'b', 'b', 'b', 'c', 'c', 'c']\n"
     ]
    }
   ],
   "source": [
    "from collections import Counter # Counts characters\n",
    "\n",
    "a = \"aaaaabbbbccc\"\n",
    "my_counter = Counter(a)\n",
    "print(my_counter)\n",
    "print(my_counter.most_common(3)) # Finds top common elements \n",
    "print(list(my_counter.elements())) # puts string into list\n"
   ]
  },
  {
   "cell_type": "code",
   "execution_count": 130,
   "metadata": {},
   "outputs": [
    {
     "name": "stdout",
     "output_type": "stream",
     "text": [
      "Point(x=1, y=-4) \n",
      "\n",
      "1 -4\n"
     ]
    }
   ],
   "source": [
    "from collections import namedtuple \n",
    "\n",
    "# naming tuples to a class\n",
    "\n",
    "Point = namedtuple('Point', 'x,y')\n",
    "pt = Point(1,-4)\n",
    "print(pt, '\\n')\n",
    "print(pt.x, pt.y)\n"
   ]
  },
  {
   "cell_type": "code",
   "execution_count": 134,
   "metadata": {},
   "outputs": [
    {
     "name": "stdout",
     "output_type": "stream",
     "text": [
      "OrderedDict([('b', 2), ('c', 3), ('d', 4), ('a', 1)])\n"
     ]
    }
   ],
   "source": [
    "from collections import OrderedDict\n",
    "# Remembers the order of the dict when created\n",
    "\n",
    "ordered_dict = OrderedDict()\n",
    "\n",
    "ordered_dict['b'] = 2\n",
    "ordered_dict['c'] = 3\n",
    "ordered_dict['d'] = 4\n",
    "ordered_dict['a'] = 1\n",
    "print(ordered_dict)"
   ]
  },
  {
   "cell_type": "code",
   "execution_count": 137,
   "metadata": {},
   "outputs": [
    {
     "name": "stdout",
     "output_type": "stream",
     "text": [
      "0\n"
     ]
    }
   ],
   "source": [
    "from collections import defaultdict\n",
    "# defults the dict to int, list, float, so not to return\n",
    "# a error if value is missing\n",
    "\n",
    "d = defaultdict(int)\n",
    "d['a'] = 1\n",
    "d['b'] = 2\n",
    "print(d['c'])"
   ]
  },
  {
   "cell_type": "code",
   "execution_count": 150,
   "metadata": {},
   "outputs": [
    {
     "name": "stdout",
     "output_type": "stream",
     "text": [
      "deque([1, 2])\n",
      "deque([3, 1, 2])\n",
      "deque([3, 1])\n",
      "deque([1])\n",
      "deque([6, 5, 4, 1])\n",
      "deque([6, 5, 4, 1, 4, 5, 6])\n",
      "deque([6, 6, 5, 4, 1, 4, 5])\n",
      "deque([6, 5, 4, 1, 4, 5, 6])\n"
     ]
    }
   ],
   "source": [
    "from collections import deque\n",
    "d = deque()\n",
    "\n",
    "d.append(1)\n",
    "d.append(2)\n",
    "print(d)\n",
    "d.appendleft(3)\n",
    "print(d)\n",
    "d.pop()\n",
    "print(d)\n",
    "d.popleft()\n",
    "print(d)\n",
    "d.extendleft([4,5,6])\n",
    "print(d)\n",
    "d.extend([4,5,6])\n",
    "print(d)\n",
    "d.rotate(1)\n",
    "print(d)\n",
    "d.rotate(-1)\n",
    "print(d)"
   ]
  },
  {
   "cell_type": "markdown",
   "metadata": {},
   "source": [
    "# Itertools"
   ]
  },
  {
   "cell_type": "code",
   "execution_count": 159,
   "metadata": {},
   "outputs": [
    {
     "name": "stdout",
     "output_type": "stream",
     "text": [
      "<itertools.product object at 0x000001A8748EDEC0>\n",
      "[(1, 3), (1, 4), (2, 3), (2, 4)]\n",
      "[(1, 3, 1, 3), (1, 3, 2, 3), (2, 3, 1, 3), (2, 3, 2, 3)]\n"
     ]
    }
   ],
   "source": [
    "from itertools import product\n",
    "# find product of two iterables\n",
    "\n",
    "a = [1,2]\n",
    "b = [3,4]\n",
    "print(product(a,b))\n",
    "print(list(product(a,b)))\n",
    "a = [1,2]\n",
    "b = [3]\n",
    "print(list(product(a,b, repeat = 2)))"
   ]
  },
  {
   "cell_type": "code",
   "execution_count": 162,
   "metadata": {},
   "outputs": [
    {
     "name": "stdout",
     "output_type": "stream",
     "text": [
      "[(1, 2, 3), (1, 3, 2), (2, 1, 3), (2, 3, 1), (3, 1, 2), (3, 2, 1)]\n",
      "[(1, 2), (1, 3), (2, 1), (2, 3), (3, 1), (3, 2)]\n"
     ]
    }
   ],
   "source": [
    "from itertools import permutations\n",
    "# all possible orderings of a input\n",
    "\n",
    "a = [1,2,3]\n",
    "print(list(permutations(a)))\n",
    "print(list(permutations(a, 2))) # telling length of perm (optional)"
   ]
  },
  {
   "cell_type": "code",
   "execution_count": 165,
   "metadata": {},
   "outputs": [
    {
     "name": "stdout",
     "output_type": "stream",
     "text": [
      "[(1, 2), (1, 3), (1, 4), (2, 3), (2, 4), (3, 4)]\n",
      "[(1, 1), (1, 2), (1, 3), (1, 4), (2, 2), (2, 3), (2, 4), (3, 3), (3, 4), (4, 4)]\n"
     ]
    }
   ],
   "source": [
    "from itertools import combinations, combinations_with_replacement\n",
    "# make all possible combinations of a specified length\n",
    "\n",
    "a = [1,2,3,4]\n",
    "\n",
    "print(list(combinations(a, 2))) # comb with length of 2\n",
    "print(list(combinations_with_replacement(a,2)))"
   ]
  },
  {
   "cell_type": "code",
   "execution_count": 169,
   "metadata": {},
   "outputs": [
    {
     "name": "stdout",
     "output_type": "stream",
     "text": [
      "[1, 2, 3, 4]\n",
      "[1, 3, 6, 10]\n",
      "[1, 2, 6, 24]\n",
      "[1, 2, 5, 5, 5]\n"
     ]
    }
   ],
   "source": [
    "from itertools import accumulate\n",
    "# makes a iterable of accumulated sums (addition)\n",
    "\n",
    "a = [1,2,3,4]\n",
    "print(a)\n",
    "print(list(accumulate(a))) # accumulates in ascending order\n",
    "# Or for multiplication\n",
    "import operator\n",
    "print(list(accumulate(a, func=operator.mul))) # Multiply\n",
    "\n",
    "a = [1,2,5,3,4] # Will keep the max number through order\n",
    "print(list(accumulate(a, func=max)))"
   ]
  },
  {
   "cell_type": "code",
   "execution_count": 175,
   "metadata": {},
   "outputs": [
    {
     "name": "stdout",
     "output_type": "stream",
     "text": [
      "True [1, 2]\n",
      "False [3, 4]\n",
      "True [1, 2]\n",
      "False [3, 4]\n",
      "25 [{'name': 'Tim', 'age': 25}, {'name': 'Dan', 'age': 25}]\n",
      "27 [{'name': 'Lisa', 'age': 27}]\n",
      "28 [{'name': 'Claire', 'age': 28}]\n"
     ]
    }
   ],
   "source": [
    "from itertools import groupby\n",
    "# Groups a function to a variable\n",
    "\n",
    "a = [1,2,3,4]\n",
    "# Normal function\n",
    "def smaller_than_3(x):\n",
    "    return x < 3\n",
    "\n",
    "group_obj = groupby(a, key=smaller_than_3)\n",
    "\n",
    "for key, value in group_obj:\n",
    "    print(key, list(value))\n",
    "\n",
    "# Lambda function\n",
    "group_obj = groupby(a, key=lambda x: x<3)\n",
    "for key, value in group_obj:\n",
    "    print(key, list(value))\n",
    "# Dictionary Example\n",
    "persons = [{'name': 'Tim', 'age': 25}, {'name': 'Dan', 'age': 25},\n",
    "{'name': 'Lisa', 'age': 27}, {'name': 'Claire', 'age': 28}]\n",
    "\n",
    "group_obj = groupby(persons, key=lambda x: x['age'])\n",
    "for key, value in group_obj:\n",
    "    print(key, list(value))"
   ]
  },
  {
   "cell_type": "code",
   "execution_count": 184,
   "metadata": {},
   "outputs": [
    {
     "name": "stdout",
     "output_type": "stream",
     "text": [
      "10\n",
      "11\n",
      "12\n",
      "13\n",
      "14\n",
      "15\n",
      "16\n",
      "17\n",
      "18\n",
      "19\n",
      "20\n",
      "1 1\n",
      "2 2\n",
      "3 3\n",
      "1 4\n",
      "2 5\n",
      "3 6\n",
      "1 7\n",
      "2 8\n",
      "3 9\n",
      "1\n",
      "1\n",
      "1\n",
      "1\n",
      "1\n",
      "1\n",
      "1\n"
     ]
    }
   ],
   "source": [
    "from itertools import count, cycle, repeat\n",
    "\n",
    "for i in count(10): #count(start_value) infinite loop\n",
    "    print(i)\n",
    "    if i == 20:\n",
    "        break\n",
    "\n",
    "a = [1,2,3]\n",
    "count = 1\n",
    "for i in cycle(a): # Will cycle through until you put stop method\n",
    "    print(i, count)\n",
    "    count += 1\n",
    "    if count == 10:\n",
    "        break\n",
    "\n",
    "for i in repeat(1, 7): #repeat(element to repeat, # of times)\n",
    "    print(i)"
   ]
  },
  {
   "cell_type": "markdown",
   "metadata": {},
   "source": [
    "# Lambda Functions"
   ]
  },
  {
   "cell_type": "code",
   "execution_count": null,
   "metadata": {},
   "outputs": [],
   "source": []
  },
  {
   "cell_type": "code",
   "execution_count": null,
   "metadata": {},
   "outputs": [
    {
     "name": "stdout",
     "output_type": "stream",
     "text": [
      "Jim - Salesman\n",
      "\n",
      "Dwight - Salesman\n",
      "\n",
      "Pam - Receptionist\n",
      "\n",
      "Michael - Manager\n",
      "\n",
      "Oscar - Accountant\n"
     ]
    }
   ],
   "source": [
    "# Opening files, r = read, w = write, a = append to end\n",
    "# r+ = read/write\n",
    "\n",
    "employee_file = open(\"employees.txt\", \"r\")\n",
    "#print(employee_file.readable())\n",
    "\n",
    "#print(employee_file.readline())\n",
    "\n",
    "#print(employee_file.read())\n",
    "\n",
    "#print(employee_file.readlines())\n",
    "\n",
    "for e in employee_file.readlines():\n",
    "    print(e)\n",
    "\n",
    "employee_file.close()"
   ]
  },
  {
   "cell_type": "code",
   "execution_count": 112,
   "metadata": {},
   "outputs": [
    {
     "name": "stdout",
     "output_type": "stream",
     "text": [
      "3\n",
      "[1, 2, 3]\n",
      "[4, 5, 6]\n",
      "[7, 8, 9]\n",
      "[0]\n"
     ]
    }
   ],
   "source": [
    "# Nested\n",
    "number_grid = [\n",
    "    [1,2,3],\n",
    "    [4,5,6],\n",
    "    [7,8,9],\n",
    "    [0]\n",
    "]\n",
    "\n",
    "print(number_grid[0][2])\n",
    "\n",
    "for row in number_grid:\n",
    "    print(row)"
   ]
  },
  {
   "cell_type": "code",
   "execution_count": 113,
   "metadata": {},
   "outputs": [
    {
     "name": "stdout",
     "output_type": "stream",
     "text": [
      "[1, 2, 3]\n",
      "1\n",
      "2\n",
      "3\n",
      "[4, 5, 6]\n",
      "4\n",
      "5\n",
      "6\n",
      "[7, 8, 9]\n",
      "7\n",
      "8\n",
      "9\n",
      "[0]\n",
      "0\n"
     ]
    }
   ],
   "source": [
    "for row in number_grid:\n",
    "    print(row)\n",
    "    for col in row:\n",
    "        print(col)"
   ]
  },
  {
   "cell_type": "code",
   "execution_count": 4,
   "metadata": {},
   "outputs": [
    {
     "name": "stdout",
     "output_type": "stream",
     "text": [
      "1\n",
      "2\n",
      "3\n",
      "4\n",
      "5\n",
      "6\n",
      "7\n",
      "8\n",
      "9\n",
      "10\n",
      "done\n"
     ]
    }
   ],
   "source": [
    "i = 1\n",
    "while i <= 10:\n",
    "    print(i)\n",
    "    i += 1\n",
    "print('done')"
   ]
  },
  {
   "cell_type": "code",
   "execution_count": null,
   "metadata": {},
   "outputs": [],
   "source": [
    "# Opening files, r = read, w = write, a = append to end\n",
    "# r+ = read/write\n",
    "\n",
    "employee_file = open(\"employees.txt\", \"r\")\n",
    "#print(employee_file.readable())\n",
    "\n",
    "#print(employee_file.readline())\n",
    "\n",
    "#print(employee_file.read())\n",
    "\n",
    "#print(employee_file.readlines())\n",
    "\n",
    "for e in employee_file.readlines():\n",
    "    print(e)\n",
    "\n",
    "employee_file.close()"
   ]
  }
 ],
 "metadata": {
  "interpreter": {
   "hash": "616f6a4f92179ca46708cb1cb1765744fb1d4de925297a50ffbc1c3a0a4f2fe0"
  },
  "kernelspec": {
   "display_name": "Python 3.9.7 ('DataEngineering')",
   "language": "python",
   "name": "python3"
  },
  "language_info": {
   "codemirror_mode": {
    "name": "ipython",
    "version": 3
   },
   "file_extension": ".py",
   "mimetype": "text/x-python",
   "name": "python",
   "nbconvert_exporter": "python",
   "pygments_lexer": "ipython3",
   "version": "3.9.7"
  },
  "orig_nbformat": 4
 },
 "nbformat": 4,
 "nbformat_minor": 2
}
