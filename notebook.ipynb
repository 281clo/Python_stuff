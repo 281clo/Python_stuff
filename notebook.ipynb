{
 "cells": [
  {
   "cell_type": "markdown",
   "metadata": {},
   "source": [
    "Lists: ordered, mutable, allows duplicate elements\n",
    "\n",
    "Tuples: ordered, imutable, allows duplicate elements\n",
    "\n",
    "Dict: Key-Value pairs, unordered, mutable\n",
    "\n",
    "Sets: unordered, mutable, no duplicates\n",
    "\n",
    "Strings: ordered, imutable, text representation\n",
    "\n",
    "immutable(cannot be altered from index Ex. string[0] = 'x')\n",
    "(Strings & Tuples)"
   ]
  },
  {
   "cell_type": "markdown",
   "metadata": {},
   "source": [
    "# Strings"
   ]
  },
  {
   "cell_type": "code",
   "execution_count": 95,
   "metadata": {},
   "outputs": [
    {
     "name": "stdout",
     "output_type": "stream",
     "text": [
      "Yes \n",
      "\n",
      "dlroW olleH \n",
      "\n",
      "['Hello', 'World'] \n",
      "\n",
      "3 \n",
      "\n",
      "0 \n",
      "\n",
      "Hello Universe \n",
      "\n",
      "howareyoudoing\n"
     ]
    }
   ],
   "source": [
    "my_string = 'Hello World'\n",
    "list1 = ['how', 'are', 'you', 'doing']\n",
    "\n",
    "\n",
    "if 'ell' in my_string:\n",
    "    print('Yes', '\\n')\n",
    "else:\n",
    "    print('No')\n",
    "\n",
    "print(my_string[::-1], '\\n') # reverse string\n",
    "print(my_string.split(), '\\n') # Splits at space\n",
    "print(my_string.find('lo'), '\\n') # finds index of string\n",
    "print(my_string.count('p'), '\\n') # counts elements\n",
    "print(my_string.replace('World', 'Universe'), '\\n')\n",
    "print(''.join(list1)) # join list to a string\n",
    "\n",
    "\n"
   ]
  },
  {
   "cell_type": "code",
   "execution_count": 111,
   "metadata": {},
   "outputs": [
    {
     "name": "stdout",
     "output_type": "stream",
     "text": [
      "the variable is Tom \n",
      " the variable is 3 \n",
      " the variable is 3.86 \n",
      " the variable is Tom and 3 and 3.86\n"
     ]
    }
   ],
   "source": [
    "# Inserting variables in strings\n",
    "\n",
    "var = \"Tom\"\n",
    "intvar = 3\n",
    "fltvar = 3.864656\n",
    "\n",
    "# old python\n",
    "my_string = \"the variable is %s\" % var \n",
    "my_string2 = \"the variable is %d\" % intvar\n",
    "my_string3 = \"the variable is %.2f\" % fltvar\n",
    "# or newer way\n",
    "my_string4 = f\"the variable is {var} and {intvar} and {fltvar:.2f}\"\n",
    "\n",
    "print(my_string,'\\n',my_string2, '\\n', my_string3, '\\n', my_string4)"
   ]
  },
  {
   "cell_type": "markdown",
   "metadata": {},
   "source": [
    "# Lists"
   ]
  },
  {
   "cell_type": "code",
   "execution_count": 335,
   "metadata": {},
   "outputs": [
    {
     "name": "stdout",
     "output_type": "stream",
     "text": [
      "[7, 6, 5, 4, 3, 2, 1]\n"
     ]
    }
   ],
   "source": [
    "my_list = [1,2,3,4,5,6,7,7,7]\n",
    "\n",
    "print(sorted(list(set(my_list)), reverse=True)) # unique sorted list\n",
    "\n",
    "#copy methods\n",
    "cpy_list = my_list[:]\n",
    "cpy_list2 = my_list.copy()\n",
    "cpy_list3 = list(my_list)\n",
    "# Not copy, exact match\n",
    "cpy_list4 = my_list"
   ]
  },
  {
   "cell_type": "code",
   "execution_count": 306,
   "metadata": {},
   "outputs": [
    {
     "name": "stdout",
     "output_type": "stream",
     "text": [
      "[1, 2, 3, 4, 5, 6, 7]\n",
      "[1, 4, 9, 16, 25, 36, 49]\n",
      "[9, 16, 25, 36, 49, 9, 16, 25, 36, 49, 9, 16, 25, 36, 49, 9, 16, 25, 36, 49, 9, 16, 25, 36, 49, 9, 16, 25, 36, 49]\n"
     ]
    }
   ],
   "source": [
    "# List comprhensions\n",
    "mylist = [1,2,3,4,5,6,7]\n",
    "b = [i*i for i in mylist]\n",
    "c = [i*i for i in mylist if i > 1 for i in mylist if i > 2] # Nested and conditional comprehension\n",
    "''' Same as \n",
    "for i in mylist:\n",
    "    if i > 1:\n",
    "        for i in mylist:\n",
    "            if i > 2:\n",
    "                i*i\n",
    "'''\n",
    "print(mylist, b, c, sep='\\n')\n"
   ]
  },
  {
   "cell_type": "code",
   "execution_count": null,
   "metadata": {},
   "outputs": [],
   "source": [
    "# Try and expections list\n",
    "'''\n",
    "try:\n",
    "   ...\n",
    "except FirstException:\n",
    "   handle_first_one()\n",
    "\n",
    "except SecondException:\n",
    "   handle_second_one()\n",
    "\n",
    "except (ThirdException, FourthException, FifthException) as e:\n",
    "   handle_either_of_3rd_4th_or_5th()\n",
    "\n",
    "except Exception:\n",
    "   handle_all_other_exceptions()\n",
    "   '''"
   ]
  },
  {
   "cell_type": "markdown",
   "metadata": {},
   "source": [
    "# Tuples"
   ]
  },
  {
   "cell_type": "code",
   "execution_count": 151,
   "metadata": {},
   "outputs": [
    {
     "name": "stdout",
     "output_type": "stream",
     "text": [
      "Yes\n",
      "0\n",
      "2\n",
      "\n",
      " 1\n",
      "Max 28 Boston\n"
     ]
    }
   ],
   "source": [
    "mytuple = tuple([\"Max\", 28, \"Boston\"])\n",
    "\n",
    "mytuple2 = ('a', 'p', 'p', 'l', 'e')\n",
    "# Cannot assign tuples like ''mytuple[0] = \"Tim\"''\n",
    "# Easy check tuple\n",
    "if \"Max\" in mytuple:\n",
    "    print(\"Yes\")\n",
    "else:\n",
    "    print(\"No\")\n",
    "\n",
    "print(mytuple2.count('o')) # Count elements in tuple\n",
    "print(mytuple2.count('p'))\n",
    "print(\"\\n\", mytuple2.index('p')) #Find index of first instance\n",
    "\n",
    "name, age, city = mytuple # setting tuples to variables\n",
    "print(name, age, city)"
   ]
  },
  {
   "cell_type": "code",
   "execution_count": 31,
   "metadata": {},
   "outputs": [
    {
     "name": "stdout",
     "output_type": "stream",
     "text": [
      "0\n",
      "[1, 2, 3]\n",
      "4\n",
      "\n",
      "\n",
      "0.007545399999798974\n",
      "0.0008022000001801644\n"
     ]
    }
   ],
   "source": [
    "my_tuple = [0,1,2,3,4]\n",
    "\n",
    "i1, *i2, i3 = my_tuple\n",
    "\n",
    "print(i1)\n",
    "print(i2)\n",
    "print(i3)\n",
    "\n",
    "#Tuples are much more efffiencent than lists\n",
    "import timeit\n",
    "\n",
    "print(\"\\n\")\n",
    "print(timeit.timeit(stmt=\"[0,1,2,3,4,5]\", number=100000))\n",
    "print(timeit.timeit(stmt=\"(0,1,2,3,4,5)\", number=100000))"
   ]
  },
  {
   "cell_type": "markdown",
   "metadata": {},
   "source": [
    "# Dictionaries"
   ]
  },
  {
   "cell_type": "code",
   "execution_count": 61,
   "metadata": {},
   "outputs": [
    {
     "name": "stdout",
     "output_type": "stream",
     "text": [
      "{'name': 'Max', 'age': 28, 'city': 'New York'} \n",
      "\n",
      "Max \n",
      "\n",
      "name\n",
      "age\n",
      "city\n",
      "\n",
      "\n",
      "Max\n",
      "28\n",
      "New York\n",
      "\n",
      "\n",
      "name Max\n",
      "age 28\n",
      "city New York\n",
      "\n",
      "\n",
      "name Max\n"
     ]
    },
    {
     "data": {
      "text/plain": [
       "'Max'"
      ]
     },
     "execution_count": 61,
     "metadata": {},
     "output_type": "execute_result"
    }
   ],
   "source": [
    "mydict = {\"name\": \"Max\", \"age\": 28, \"city\": \"New York\"}\n",
    "print(mydict, \"\\n\")\n",
    "\n",
    "try:\n",
    "    print(mydict[\"name\"],\"\\n\")\n",
    "except:\n",
    "    print(\"Error\")\n",
    "\n",
    "\n",
    "for key in mydict:\n",
    "    print(key)\n",
    "print(\"\\n\")\n",
    "for value in mydict.values():\n",
    "    print(value)\n",
    "print(\"\\n\")\n",
    "for key,value in mydict.items():\n",
    "    print(key, value)\n",
    "print(\"\\n\")\n",
    "for key,value in mydict.items():\n",
    "    if \"Max\" == value:\n",
    "        print(key, value)\n",
    "    else:\n",
    "        continue\n",
    "\n",
    "# Accessing dict\n",
    "mydict.get(\"name\")\n"
   ]
  },
  {
   "cell_type": "code",
   "execution_count": 46,
   "metadata": {},
   "outputs": [
    {
     "name": "stdout",
     "output_type": "stream",
     "text": [
      "{'name': 'Mary', 'age': 28, 'Email': 'email@eail.com', 'city': 'Boston'}\n"
     ]
    }
   ],
   "source": [
    "# Updating dictionaries\n",
    "mydict = {\"name\": \"Max\", \"age\": 28, \"Email\": \"email@eail.com\"}\n",
    "my_dict2 = {\"name\":\"Mary\", \"city\":\"Boston\"}\n",
    "# Or \n",
    "my_dict2ALT = dict(name=\"Mary\", city=\"Boston\")\n",
    "\n",
    "mydict.update(my_dict2)\n",
    "print(mydict)"
   ]
  },
  {
   "cell_type": "code",
   "execution_count": 60,
   "metadata": {},
   "outputs": [
    {
     "data": {
      "text/plain": [
       "'Max'"
      ]
     },
     "execution_count": 60,
     "metadata": {},
     "output_type": "execute_result"
    }
   ],
   "source": [
    "# Accessing dict\n",
    "mydict.get(\"name\")"
   ]
  },
  {
   "cell_type": "markdown",
   "metadata": {},
   "source": [
    "# Sets"
   ]
  },
  {
   "cell_type": "code",
   "execution_count": 77,
   "metadata": {},
   "outputs": [
    {
     "name": "stdout",
     "output_type": "stream",
     "text": [
      "{'H', 'o', 'l', 'e'}\n",
      "{1, 2, 'H', 'e', 'l', 'o'}\n",
      "\n",
      "\n",
      "{1, 'H', 'e', 'l', 'o'}\n",
      "yes\n",
      "\n",
      "{0, 1, 2, 3, 4, 5, 6, 7, 8, 9} Union of odds and evens\n",
      "\n",
      "{3, 5, 7} Intersection of odds and primes\n",
      "\n",
      "{4, 5, 6, 7, 8, 9} Difference of A - B\n",
      "\n",
      "{4, 5, 6, 7, 8, 9, 10, 11, 12} No matching in either elements A or B\n"
     ]
    }
   ],
   "source": [
    "myset = set(\"Hello\")\n",
    "print(myset)\n",
    "\n",
    "myset.add(1)\n",
    "myset.add(2)\n",
    "\n",
    "print(myset)\n",
    "myset.remove(2)\n",
    "print(\"\\n\")\n",
    "print(myset)\n",
    "\n",
    "if 1 in myset:\n",
    "    print('yes\\n')\n",
    "\n",
    "odds = {1,3,5,7,9}\n",
    "evens = {0,2,4,6,8}\n",
    "primes = {2,3,5,7}\n",
    "\n",
    "#Combine numbers\n",
    "u = odds.union(evens)\n",
    "print(u, \"Union of odds and evens\\n\")\n",
    "\n",
    "# Same numbers\n",
    "i = odds.intersection(primes)\n",
    "print(i, \"Intersection of odds and primes\\n\")\n",
    "\n",
    "setA = {1,2,3,4,5,6,7,8,9}\n",
    "setB = {1,2,3,10,11,12}\n",
    "# Difference of sets\n",
    "diff = setA.difference(setB)\n",
    "print(diff, \"Difference of A - B\\n\")\n",
    "# Symmetric Difference\n",
    "diff2 = setA.symmetric_difference(setB)\n",
    "print(diff2, \"No matching in either elements A or B\")\n",
    "\n",
    "\n"
   ]
  },
  {
   "cell_type": "markdown",
   "metadata": {},
   "source": [
    "# Collections"
   ]
  },
  {
   "cell_type": "code",
   "execution_count": 128,
   "metadata": {},
   "outputs": [
    {
     "name": "stdout",
     "output_type": "stream",
     "text": [
      "Counter({'a': 5, 'b': 4, 'c': 3})\n",
      "[('a', 5), ('b', 4), ('c', 3)]\n",
      "['a', 'a', 'a', 'a', 'a', 'b', 'b', 'b', 'b', 'c', 'c', 'c']\n"
     ]
    }
   ],
   "source": [
    "from collections import Counter # Counts characters\n",
    "\n",
    "a = \"aaaaabbbbccc\"\n",
    "my_counter = Counter(a)\n",
    "print(my_counter)\n",
    "print(my_counter.most_common(3)) # Finds top common elements \n",
    "print(list(my_counter.elements())) # puts string into list\n"
   ]
  },
  {
   "cell_type": "code",
   "execution_count": 130,
   "metadata": {},
   "outputs": [
    {
     "name": "stdout",
     "output_type": "stream",
     "text": [
      "Point(x=1, y=-4) \n",
      "\n",
      "1 -4\n"
     ]
    }
   ],
   "source": [
    "from collections import namedtuple \n",
    "\n",
    "# naming tuples to a class\n",
    "\n",
    "Point = namedtuple('Point', 'x,y')\n",
    "pt = Point(1,-4)\n",
    "print(pt, '\\n')\n",
    "print(pt.x, pt.y)\n"
   ]
  },
  {
   "cell_type": "code",
   "execution_count": 134,
   "metadata": {},
   "outputs": [
    {
     "name": "stdout",
     "output_type": "stream",
     "text": [
      "OrderedDict([('b', 2), ('c', 3), ('d', 4), ('a', 1)])\n"
     ]
    }
   ],
   "source": [
    "from collections import OrderedDict\n",
    "# Remembers the order of the dict when created\n",
    "\n",
    "ordered_dict = OrderedDict()\n",
    "\n",
    "ordered_dict['b'] = 2\n",
    "ordered_dict['c'] = 3\n",
    "ordered_dict['d'] = 4\n",
    "ordered_dict['a'] = 1\n",
    "print(ordered_dict)"
   ]
  },
  {
   "cell_type": "code",
   "execution_count": 137,
   "metadata": {},
   "outputs": [
    {
     "name": "stdout",
     "output_type": "stream",
     "text": [
      "0\n"
     ]
    }
   ],
   "source": [
    "from collections import defaultdict\n",
    "# defults the dict to int, list, float, so not to return\n",
    "# a error if value is missing\n",
    "\n",
    "d = defaultdict(int)\n",
    "d['a'] = 1\n",
    "d['b'] = 2\n",
    "print(d['c'])"
   ]
  },
  {
   "cell_type": "code",
   "execution_count": 150,
   "metadata": {},
   "outputs": [
    {
     "name": "stdout",
     "output_type": "stream",
     "text": [
      "deque([1, 2])\n",
      "deque([3, 1, 2])\n",
      "deque([3, 1])\n",
      "deque([1])\n",
      "deque([6, 5, 4, 1])\n",
      "deque([6, 5, 4, 1, 4, 5, 6])\n",
      "deque([6, 6, 5, 4, 1, 4, 5])\n",
      "deque([6, 5, 4, 1, 4, 5, 6])\n"
     ]
    }
   ],
   "source": [
    "from collections import deque\n",
    "d = deque()\n",
    "\n",
    "d.append(1)\n",
    "d.append(2)\n",
    "print(d)\n",
    "d.appendleft(3)\n",
    "print(d)\n",
    "d.pop()\n",
    "print(d)\n",
    "d.popleft()\n",
    "print(d)\n",
    "d.extendleft([4,5,6])\n",
    "print(d)\n",
    "d.extend([4,5,6])\n",
    "print(d)\n",
    "d.rotate(1)\n",
    "print(d)\n",
    "d.rotate(-1)\n",
    "print(d)"
   ]
  },
  {
   "cell_type": "markdown",
   "metadata": {},
   "source": [
    "# Itertools"
   ]
  },
  {
   "cell_type": "code",
   "execution_count": 159,
   "metadata": {},
   "outputs": [
    {
     "name": "stdout",
     "output_type": "stream",
     "text": [
      "<itertools.product object at 0x000001A8748EDEC0>\n",
      "[(1, 3), (1, 4), (2, 3), (2, 4)]\n",
      "[(1, 3, 1, 3), (1, 3, 2, 3), (2, 3, 1, 3), (2, 3, 2, 3)]\n"
     ]
    }
   ],
   "source": [
    "from itertools import product\n",
    "# find product of two iterables\n",
    "\n",
    "a = [1,2]\n",
    "b = [3,4]\n",
    "print(product(a,b))\n",
    "print(list(product(a,b)))\n",
    "a = [1,2]\n",
    "b = [3]\n",
    "print(list(product(a,b, repeat = 2)))"
   ]
  },
  {
   "cell_type": "code",
   "execution_count": 162,
   "metadata": {},
   "outputs": [
    {
     "name": "stdout",
     "output_type": "stream",
     "text": [
      "[(1, 2, 3), (1, 3, 2), (2, 1, 3), (2, 3, 1), (3, 1, 2), (3, 2, 1)]\n",
      "[(1, 2), (1, 3), (2, 1), (2, 3), (3, 1), (3, 2)]\n"
     ]
    }
   ],
   "source": [
    "from itertools import permutations\n",
    "# all possible orderings of a input\n",
    "\n",
    "a = [1,2,3]\n",
    "print(list(permutations(a)))\n",
    "print(list(permutations(a, 2))) # telling length of perm (optional)"
   ]
  },
  {
   "cell_type": "code",
   "execution_count": 165,
   "metadata": {},
   "outputs": [
    {
     "name": "stdout",
     "output_type": "stream",
     "text": [
      "[(1, 2), (1, 3), (1, 4), (2, 3), (2, 4), (3, 4)]\n",
      "[(1, 1), (1, 2), (1, 3), (1, 4), (2, 2), (2, 3), (2, 4), (3, 3), (3, 4), (4, 4)]\n"
     ]
    }
   ],
   "source": [
    "from itertools import combinations, combinations_with_replacement\n",
    "# make all possible combinations of a specified length\n",
    "\n",
    "a = [1,2,3,4]\n",
    "\n",
    "print(list(combinations(a, 2))) # comb with length of 2\n",
    "print(list(combinations_with_replacement(a,2)))"
   ]
  },
  {
   "cell_type": "code",
   "execution_count": 169,
   "metadata": {},
   "outputs": [
    {
     "name": "stdout",
     "output_type": "stream",
     "text": [
      "[1, 2, 3, 4]\n",
      "[1, 3, 6, 10]\n",
      "[1, 2, 6, 24]\n",
      "[1, 2, 5, 5, 5]\n"
     ]
    }
   ],
   "source": [
    "from itertools import accumulate\n",
    "# makes a iterable of accumulated sums (addition)\n",
    "\n",
    "a = [1,2,3,4]\n",
    "print(a)\n",
    "print(list(accumulate(a))) # accumulates in ascending order\n",
    "# Or for multiplication\n",
    "import operator\n",
    "print(list(accumulate(a, func=operator.mul))) # Multiply\n",
    "\n",
    "a = [1,2,5,3,4] # Will keep the max number through order\n",
    "print(list(accumulate(a, func=max)))"
   ]
  },
  {
   "cell_type": "code",
   "execution_count": 175,
   "metadata": {},
   "outputs": [
    {
     "name": "stdout",
     "output_type": "stream",
     "text": [
      "True [1, 2]\n",
      "False [3, 4]\n",
      "True [1, 2]\n",
      "False [3, 4]\n",
      "25 [{'name': 'Tim', 'age': 25}, {'name': 'Dan', 'age': 25}]\n",
      "27 [{'name': 'Lisa', 'age': 27}]\n",
      "28 [{'name': 'Claire', 'age': 28}]\n"
     ]
    }
   ],
   "source": [
    "from itertools import groupby\n",
    "# Groups a function to a variable\n",
    "\n",
    "a = [1,2,3,4]\n",
    "# Normal function\n",
    "def smaller_than_3(x):\n",
    "    return x < 3\n",
    "\n",
    "group_obj = groupby(a, key=smaller_than_3)\n",
    "\n",
    "for key, value in group_obj:\n",
    "    print(key, list(value))\n",
    "\n",
    "# Lambda function\n",
    "group_obj = groupby(a, key=lambda x: x<3)\n",
    "for key, value in group_obj:\n",
    "    print(key, list(value))\n",
    "# Dictionary Example\n",
    "persons = [{'name': 'Tim', 'age': 25}, {'name': 'Dan', 'age': 25},\n",
    "{'name': 'Lisa', 'age': 27}, {'name': 'Claire', 'age': 28}]\n",
    "\n",
    "group_obj = groupby(persons, key=lambda x: x['age'])\n",
    "for key, value in group_obj:\n",
    "    print(key, list(value))"
   ]
  },
  {
   "cell_type": "code",
   "execution_count": 184,
   "metadata": {},
   "outputs": [
    {
     "name": "stdout",
     "output_type": "stream",
     "text": [
      "10\n",
      "11\n",
      "12\n",
      "13\n",
      "14\n",
      "15\n",
      "16\n",
      "17\n",
      "18\n",
      "19\n",
      "20\n",
      "1 1\n",
      "2 2\n",
      "3 3\n",
      "1 4\n",
      "2 5\n",
      "3 6\n",
      "1 7\n",
      "2 8\n",
      "3 9\n",
      "1\n",
      "1\n",
      "1\n",
      "1\n",
      "1\n",
      "1\n",
      "1\n"
     ]
    }
   ],
   "source": [
    "from itertools import count, cycle, repeat\n",
    "\n",
    "for i in count(10): #count(start_value) infinite loop\n",
    "    print(i)\n",
    "    if i == 20:\n",
    "        break\n",
    "\n",
    "a = [1,2,3]\n",
    "count = 1\n",
    "for i in cycle(a): # Will cycle through until you put stop method\n",
    "    print(i, count)\n",
    "    count += 1\n",
    "    if count == 10:\n",
    "        break\n",
    "\n",
    "for i in repeat(1, 7): #repeat(element to repeat, # of times)\n",
    "    print(i)"
   ]
  },
  {
   "cell_type": "markdown",
   "metadata": {},
   "source": [
    "# Lambda Functions\n",
    "-  Map, filter, reduce"
   ]
  },
  {
   "cell_type": "markdown",
   "metadata": {},
   "source": [
    "lambda variable: variable + expression \n",
    "\n",
    "map(function, sequence)\n",
    "\n",
    "filter(function, sequence)\n",
    "\n",
    "reduce(function, sequence)"
   ]
  },
  {
   "cell_type": "code",
   "execution_count": 193,
   "metadata": {},
   "outputs": [
    {
     "name": "stdout",
     "output_type": "stream",
     "text": [
      "15\n",
      "14\n",
      "[(1, 2), (15, 1), (5, -1), (10, 4)]\n",
      "[(1, 2), (5, -1), (10, 4), (15, 1)]\n",
      "[(5, -1), (15, 1), (1, 2), (10, 4)]\n",
      "[(1, 2), (5, -1), (10, 4), (15, 1)]\n"
     ]
    }
   ],
   "source": [
    "# Lambda Functions\n",
    "add10 = lambda x: x + 10\n",
    "print(add10(5)) # turn any variable into a function\n",
    "\n",
    "mult = lambda x,y: x*y # Multiple variables\n",
    "print(mult(2,7))\n",
    "\n",
    "points2D = [(1,2), (15,1), (5,-1), (10,4)]\n",
    "sortedpoints = sorted(points2D) # by x values\n",
    "sortedpoints2 = sorted(points2D, key=lambda x: x[1]) # by y values\n",
    "sortedpoints3 = sorted(points2D, key=lambda x: x[0] + x[1]) # by sum of tuple\n",
    "\n",
    "print(points2D)\n",
    "print(sortedpoints)\n",
    "print(sortedpoints2)\n",
    "print(sortedpoints3)"
   ]
  },
  {
   "cell_type": "code",
   "execution_count": null,
   "metadata": {},
   "outputs": [],
   "source": [
    "# Data frames lambda\n",
    "prod['ListPrice'].apply(lambda x: x+100).tail(10) # Prod['ListPrice'] is considered x\n",
    "\n",
    "prod['Color'].fillna('x').apply(lambda x: 'Bright ' + x).head(5) # fill all null in prod['Color']"
   ]
  },
  {
   "cell_type": "code",
   "execution_count": 201,
   "metadata": {},
   "outputs": [
    {
     "name": "stdout",
     "output_type": "stream",
     "text": [
      "[2, 4, 6, 8, 10]\n",
      "[2, 4, 6, 8, 10]\n",
      "[2, 4, 6, 6]\n",
      "[2, 4, 6, 6]\n",
      "120\n"
     ]
    }
   ],
   "source": [
    "# Mapping Function\n",
    "a = [1,2,3,4,5] # sends function output to sequence ie (a)\n",
    "b = map(lambda x: x*2, a)\n",
    "print(list(b))\n",
    "\n",
    "# same as\n",
    "c = [x*2 for x in a]\n",
    "print(c)\n",
    "\n",
    "# Filter Funtion\n",
    "a = [1,2,3,4,5,6] # runs sequence through filter and outputs accepted values depending on function\n",
    "b = filter(lambda x: x%2==0, a)\n",
    "print(list(b))\n",
    "\n",
    "# same as\n",
    "c = [x for x in a if x%2==0]\n",
    "print(c)\n",
    "\n",
    "# Reduce Function\n",
    "from functools import reduce\n",
    "a = [1,2,3,4,5] # Compounding sum of values from left to right, can be factorial if ordered from 1\n",
    "            \n",
    "\n",
    "product_a = reduce(lambda x,y: x*y, a)\n",
    "print(product_a)"
   ]
  },
  {
   "cell_type": "markdown",
   "metadata": {},
   "source": [
    "# Errors & Exceptions"
   ]
  },
  {
   "cell_type": "code",
   "execution_count": 206,
   "metadata": {},
   "outputs": [
    {
     "name": "stdout",
     "output_type": "stream",
     "text": [
      "division by zero\n",
      "Cleaning up...\n"
     ]
    }
   ],
   "source": [
    "try:\n",
    "    a = 5 / 0\n",
    "except Exception as e:\n",
    "    print(e) # prints error\n",
    "else:\n",
    "    print('Everything is fine')\n",
    "finally: # Always runs at end no matter what\n",
    "    print('Cleaning up...')"
   ]
  },
  {
   "cell_type": "code",
   "execution_count": 208,
   "metadata": {},
   "outputs": [
    {
     "name": "stdout",
     "output_type": "stream",
     "text": [
      "Value too small! 1\n"
     ]
    }
   ],
   "source": [
    "class ValueTooHighError(Exception):\n",
    "    pass\n",
    "class ValueTooSmallError(Exception):\n",
    "    def __init__(self, message, value):\n",
    "        self.message = message\n",
    "        self.value = value\n",
    "    \n",
    "def test_value(x):\n",
    "    if x > 100:\n",
    "        raise ValueTooHighError('Value too high!', x)\n",
    "    if x < 5:\n",
    "        raise ValueTooSmallError('Value too small!', x)\n",
    "\n",
    "try:\n",
    "    test_value(1)\n",
    "except ValueTooHighError as e:\n",
    "    print(e)\n",
    "except ValueTooSmallError as e:\n",
    "    print(e.message, e.value)"
   ]
  },
  {
   "cell_type": "markdown",
   "metadata": {},
   "source": [
    "# JSON\n",
    "python == json\n",
    "\n",
    "dict---object\n",
    "\n",
    "list,tuple---array\n",
    "\n",
    "string---string\n",
    "\n",
    "int,long,float---number\n",
    "\n",
    "True---true\n",
    "\n",
    "False---false\n",
    "\n",
    "None---null"
   ]
  },
  {
   "cell_type": "code",
   "execution_count": 213,
   "metadata": {},
   "outputs": [
    {
     "name": "stdout",
     "output_type": "stream",
     "text": [
      "{\n",
      "    \"age\": 30,\n",
      "    \"city\": \"New York\",\n",
      "    \"hasChildren\": false,\n",
      "    \"name\": \"John\",\n",
      "    \"titles\": [\n",
      "        \"engineer\",\n",
      "        \"programmer\"\n",
      "    ]\n",
      "}\n",
      "{'age': 30, 'city': 'New York', 'hasChildren': False, 'name': 'John', 'titles': ['engineer', 'programmer']} \n",
      "\n",
      "{'name': 'John', 'age': 30, 'city': 'New York', 'hasChildren': False, 'titles': ['engineer', 'programmer']}\n"
     ]
    }
   ],
   "source": [
    "import json\n",
    "# Convert dict to json\n",
    "person = {\"name\": \"John\", \"age\": 30, \"city\": \"New York\", \"hasChildren\": False, \"titles\": [\"engineer\", \"programmer\"]}\n",
    "\n",
    "personJSONstr = json.dumps(person, indent=4, sort_keys=True)\n",
    "print(personJSONstr)\n",
    "\n",
    "# creates file\n",
    "with open('person.json', 'w') as file:\n",
    "    json.dump(person, file, indent=4)\n",
    "\n",
    "# Load from string\n",
    "person = json.loads(personJSONstr)\n",
    "print(person, '\\n')\n",
    "\n",
    "# Load from file\n",
    "with open('person.json', 'r') as file:\n",
    "    person = json.load(file)\n",
    "    print(person)"
   ]
  },
  {
   "cell_type": "code",
   "execution_count": 214,
   "metadata": {},
   "outputs": [
    {
     "name": "stdout",
     "output_type": "stream",
     "text": [
      "{\"name\": \"Max\", \"age\": 27, \"User\": true}\n"
     ]
    }
   ],
   "source": [
    "# Encoding custom objects 1\n",
    "import json\n",
    "\n",
    "class User:\n",
    "\n",
    "    def __init__(self, name, age):\n",
    "        self.name = name\n",
    "        self.age = age\n",
    "\n",
    "user = User('Max', 27)\n",
    "\n",
    "def encode_user(o):\n",
    "    if isinstance(o, User):\n",
    "        return {'name': o.name, 'age': o.age, o.__class__.__name__:True}\n",
    "    else:\n",
    "        raise TypeError('Object of type User is not JSON serializable')\n",
    "    \n",
    "userJSON = json.dumps(user, default=encode_user)\n",
    "print(userJSON)\n"
   ]
  },
  {
   "cell_type": "code",
   "execution_count": 219,
   "metadata": {},
   "outputs": [
    {
     "name": "stdout",
     "output_type": "stream",
     "text": [
      "{\"name\": \"Max\", \"age\": 27, \"User\": true}\n",
      "<class '__main__.User'>\n",
      "Max\n"
     ]
    }
   ],
   "source": [
    "# Encoding custom objects 2\n",
    "from json import JSONEncoder\n",
    "class UserEncoder(JSONEncoder):\n",
    "\n",
    "    def default(self, o):\n",
    "        if isinstance(o, User):\n",
    "            return {'name': o.name, 'age': o.age, o.__class__.__name__:True}\n",
    "        return JSONEncoder.default(self, o)   \n",
    "\n",
    "userJSON = json.dumps(user, cls=UserEncoder)\n",
    "#or userJSON = UserEncoder().encode(user)\n",
    "print(userJSON)\n",
    "\n",
    "# Decoding custom objects\n",
    "def decode_user(dct):\n",
    "    if User.__name__ in dct:\n",
    "        return User(name=dct['name'], age=dct['age'])\n",
    "    return dct    \n",
    "user = json.loads(userJSON, object_hook=decode_user)\n",
    "print(type(user))\n",
    "print(user.name)"
   ]
  },
  {
   "cell_type": "markdown",
   "metadata": {},
   "source": [
    "# Random Numbers"
   ]
  },
  {
   "cell_type": "code",
   "execution_count": 243,
   "metadata": {},
   "outputs": [
    {
     "name": "stdout",
     "output_type": "stream",
     "text": [
      "0.6000687899786766\n",
      "2.0966995793951533\n",
      "9\n",
      "3\n",
      "-1.9420864763148158\n",
      "H\n",
      "['D', 'H', 'D']\n",
      "['A', 'H', 'B']\n",
      "['B', 'A', 'F', 'E', 'D', 'G', 'C', 'H']\n"
     ]
    }
   ],
   "source": [
    "import random\n",
    "# random.seed(x) makes random results reproducable\n",
    "\n",
    "mylist = list(\"ABCDEFGH\")\n",
    "\n",
    "print(random.random()) # Random # from 0-1\n",
    "print(random.uniform(1,10)) # Random float in the range\n",
    "print(random.randint(1,10)) # Random int in the range\n",
    "print(random.randrange(1,10)) # Will not include 10\n",
    "print(random.normalvariate(0,1)) # (mu/mean, sigma/std)\n",
    "print(random.choice(mylist)) # Randon element from list\n",
    "print(random.choices(mylist, k=3)) # Not Unique sample\n",
    "print(random.sample(mylist, 3)) # Unique random sample\n",
    "random.shuffle(mylist) # Random shuffle\n",
    "print(mylist)\n"
   ]
  },
  {
   "cell_type": "code",
   "execution_count": 250,
   "metadata": {},
   "outputs": [
    {
     "name": "stdout",
     "output_type": "stream",
     "text": [
      "3\n",
      "1404\n",
      "D\n"
     ]
    }
   ],
   "source": [
    "import secrets\n",
    "# generate random number\n",
    "mylist = list(\"ABCDEFGH\")\n",
    "print(secrets.randbelow(10))\n",
    "print(secrets.randbits(11))\n",
    "print(secrets.choice(mylist))\n",
    "\n",
    "\n"
   ]
  },
  {
   "cell_type": "code",
   "execution_count": 262,
   "metadata": {},
   "outputs": [
    {
     "name": "stdout",
     "output_type": "stream",
     "text": [
      "[0.19717293 0.32530496 0.89602239]\n",
      "[[0.8515581  0.87842795 0.87316904]\n",
      " [0.69206005 0.47370139 0.15814517]]\n",
      "[5 8 8]\n",
      "[[5 1 4]\n",
      " [6 0 5]]\n",
      "[[0], [4, 5, 6], [1, 2, 3], [7, 8, 9]]\n"
     ]
    }
   ],
   "source": [
    "import numpy as np\n",
    "\n",
    "number_grid = [[1,2,3],[4,5,6],[7,8,9],[0]]\n",
    "\n",
    "print(np.random.rand(3)) # 1D array with 3 elements(floats)\n",
    "print(np.random.rand(2,3))\n",
    "print(np.random.randint(0,10, 3)) # Range 10 not included\n",
    "print(np.random.randint(0,10, (2,3)))\n",
    "np.random.shuffle(number_grid)\n",
    "print(number_grid)\n"
   ]
  },
  {
   "cell_type": "markdown",
   "metadata": {},
   "source": [
    "# Decorators"
   ]
  },
  {
   "cell_type": "code",
   "execution_count": 264,
   "metadata": {},
   "outputs": [
    {
     "name": "stdout",
     "output_type": "stream",
     "text": [
      "Start\n",
      "Alex\n",
      "End\n"
     ]
    }
   ],
   "source": [
    "# Base decorator example\n",
    "\n",
    "def start_end_decorator(func):\n",
    "\n",
    "    def wrapper():\n",
    "        print('Start')\n",
    "        func()\n",
    "        print('End')\n",
    "    return wrapper\n",
    "\n",
    "@start_end_decorator\n",
    "def print_name():\n",
    "    print('Alex')\n",
    "\n",
    "print_name()"
   ]
  },
  {
   "cell_type": "code",
   "execution_count": 270,
   "metadata": {},
   "outputs": [
    {
     "data": {
      "text/plain": [
       "10"
      ]
     },
     "execution_count": 270,
     "metadata": {},
     "output_type": "execute_result"
    }
   ],
   "source": [
    "# Decorator Template\n",
    "import functools\n",
    "\n",
    "def my_decorator(func):\n",
    "\n",
    "    @functools.wraps(func)\n",
    "    def wrapper(*args, **kwargs):\n",
    "        # Do something...\n",
    "        result = func(*args, **kwargs)\n",
    "        # Do something...\n",
    "        return result\n",
    "    return wrapper\n",
    "\n",
    "@my_decorator\n",
    "def add5(x):\n",
    "    return x + 5\n",
    "\n",
    "add5(5)\n",
    "\n"
   ]
  },
  {
   "cell_type": "code",
   "execution_count": 269,
   "metadata": {},
   "outputs": [
    {
     "name": "stdout",
     "output_type": "stream",
     "text": [
      "Hello Alex\n",
      "Hello Alex\n",
      "Hello Alex\n"
     ]
    }
   ],
   "source": [
    "# Regular decorator\n",
    "\n",
    "import functools\n",
    "\n",
    "def repeat(num_times):\n",
    "    def decorator_repeat(func):\n",
    "        @functools.wraps(func)\n",
    "        def wrapper(*args, **kwargs):\n",
    "            for _ in range(num_times):\n",
    "                result = func(*args, **kwargs)\n",
    "            return result\n",
    "        return wrapper\n",
    "    return decorator_repeat\n",
    "\n",
    "\n",
    "@repeat(num_times=3)\n",
    "def greet(name):\n",
    "    print(f'Hello {name}')\n",
    "\n",
    "greet('Alex')"
   ]
  },
  {
   "cell_type": "code",
   "execution_count": 272,
   "metadata": {},
   "outputs": [
    {
     "name": "stdout",
     "output_type": "stream",
     "text": [
      "Calling say_hello('Alex')\n",
      "Start\n",
      "Alex\n",
      "End\n",
      "'say_hello' returned 'Hello Alex'\n"
     ]
    },
    {
     "data": {
      "text/plain": [
       "'Hello Alex'"
      ]
     },
     "execution_count": 272,
     "metadata": {},
     "output_type": "execute_result"
    }
   ],
   "source": [
    "# Nested Decorator Function + debug decorator\n",
    "\n",
    "def start_end_decorator(func):\n",
    "    \n",
    "    @functools.wraps(func)\n",
    "    def wrapper(*args, **kwargs):\n",
    "        print('Start')\n",
    "        result = func(*args, **kwargs)\n",
    "        print('End')\n",
    "        return result\n",
    "    return wrapper\n",
    "def debug(func):\n",
    "    @functools.wraps(func)\n",
    "    def wrapper(*args, **kwargs):\n",
    "        args_repr = [repr(a) for a in args]\n",
    "        kwargs_repr = [f'{k}={v!r}' for k, v in kwargs.items()]\n",
    "        signature = \", \".join(args_repr + kwargs_repr)\n",
    "        print(f'Calling {func.__name__}({signature})')\n",
    "        result = func(*args, **kwargs)\n",
    "        print(f'{func.__name__!r} returned {result!r}')\n",
    "        return result\n",
    "    return wrapper\n",
    "\n",
    "@debug\n",
    "@start_end_decorator\n",
    "def say_hello(name):\n",
    "    greeting = f'Hello {name}'\n",
    "    print('Alex')\n",
    "    return greeting\n",
    "\n",
    "say_hello('Alex')"
   ]
  },
  {
   "cell_type": "code",
   "execution_count": 275,
   "metadata": {},
   "outputs": [
    {
     "name": "stdout",
     "output_type": "stream",
     "text": [
      "This is executed 1 times\n",
      "Hello\n",
      "This is executed 2 times\n",
      "Hello\n"
     ]
    }
   ],
   "source": [
    "# Class decorators\n",
    "\n",
    "class CountCalls:\n",
    "\n",
    "    def __init__(self, func):\n",
    "        self.func = func\n",
    "        self.num_calls = 0\n",
    "\n",
    "    def __call__(self, *args, **kwargs):\n",
    "        self.num_calls += 1\n",
    "        print(f'This is executed {self.num_calls} times')\n",
    "        return self.func(*args, **kwargs)\n",
    "\n",
    "@CountCalls\n",
    "def say_hello():\n",
    "    print('Hello')\n",
    "\n",
    "say_hello()\n",
    "say_hello()"
   ]
  },
  {
   "cell_type": "markdown",
   "metadata": {},
   "source": [
    "# Generators"
   ]
  },
  {
   "cell_type": "code",
   "execution_count": 282,
   "metadata": {},
   "outputs": [
    {
     "name": "stdout",
     "output_type": "stream",
     "text": [
      "1\n",
      "2\n",
      "3\n"
     ]
    }
   ],
   "source": [
    "def mygenerator():\n",
    "    yield 1\n",
    "    yield 2\n",
    "    yield 3\n",
    "\n",
    "g = mygenerator()\n",
    "\n",
    "value = next(g)\n",
    "print(value)\n",
    "value = next(g)\n",
    "print(value)\n",
    "value = next(g)\n",
    "print(value) # Will throw error if used a 4th time becuase we only have 3 yields\n"
   ]
  },
  {
   "cell_type": "code",
   "execution_count": 290,
   "metadata": {},
   "outputs": [
    {
     "name": "stdout",
     "output_type": "stream",
     "text": [
      "45\n",
      "45 \n",
      "\n",
      "8448728\n",
      "112 \n",
      "\n",
      "[0, 2, 4, 6, 8]\n",
      "[0, 2, 4, 6, 8]\n"
     ]
    }
   ],
   "source": [
    "import sys\n",
    "\n",
    "def firstn(n):\n",
    "    nums = []\n",
    "    num = 0\n",
    "    while num < n:\n",
    "        nums.append(num)\n",
    "        num += 1\n",
    "    return nums\n",
    "\n",
    "def firstn_generator(n):\n",
    "    num = 0\n",
    "    while num < n:\n",
    "        yield num\n",
    "        num += 1\n",
    "\n",
    "print(sum(firstn(10)))\n",
    "print(sum(firstn_generator(10)), '\\n')\n",
    "\n",
    "# Much smaller and doesn't have to finish to get output\n",
    "print(sys.getsizeof(firstn(1000000)))\n",
    "print(sys.getsizeof(firstn_generator(1000000)), '\\n')\n",
    "\n",
    "# List comprehension\n",
    "mygenerator = (i for i in range(10) if i % 2 == 0)\n",
    "print(list(mygenerator))\n",
    "mylist = [i for i in range(10) if i % 2 == 0]\n",
    "print(mylist)"
   ]
  },
  {
   "cell_type": "code",
   "execution_count": 288,
   "metadata": {},
   "outputs": [
    {
     "name": "stdout",
     "output_type": "stream",
     "text": [
      "0\n",
      "1\n",
      "1\n",
      "2\n",
      "3\n",
      "5\n",
      "8\n",
      "13\n",
      "21\n"
     ]
    }
   ],
   "source": [
    "# Fibonacci Generator\n",
    "\n",
    "def fibonacci(limit):\n",
    "    a, b = 0, 1\n",
    "    while a < limit:\n",
    "        yield a\n",
    "        a, b = b, a + b\n",
    "\n",
    "fib = fibonacci(30)\n",
    "for i in fib:\n",
    "    print(i)"
   ]
  },
  {
   "cell_type": "markdown",
   "metadata": {},
   "source": [
    "# Threading vs Multiprocessing"
   ]
  },
  {
   "cell_type": "code",
   "execution_count": null,
   "metadata": {},
   "outputs": [],
   "source": [
    "# from multiprocessing import Process\n",
    "# import os\n",
    "# import time\n",
    "\n",
    "# def square_numbers():\n",
    "#     for i in range(100):\n",
    "#         i + i\n",
    "#         time.sleep(0.1)\n",
    "\n",
    "# processes = []\n",
    "# num_processes = os.cpu_count()\n",
    "\n",
    "# # Create processes\n",
    "# for i in range(num_processes)\n",
    "#     p = Process(target=square_numbers)\n",
    "\n",
    "# # start\n",
    "# for p in processes:\n",
    "#     p.start()\n",
    "\n",
    "# # join\n",
    "# for p in processes:\n",
    "#     p.join()\n",
    "\n",
    "# print('end main')\n"
   ]
  },
  {
   "cell_type": "markdown",
   "metadata": {},
   "source": [
    "# Function Arguments\n",
    "\n",
    "*args = Any number of positional arguments\n",
    "\n",
    "**kwargs = Any number of keyword arguments"
   ]
  },
  {
   "cell_type": "code",
   "execution_count": 298,
   "metadata": {},
   "outputs": [
    {
     "name": "stdout",
     "output_type": "stream",
     "text": [
      "1 2 3 4\n",
      "3 2 1 4\n",
      "1 2 3 7\n"
     ]
    }
   ],
   "source": [
    "def foo(a, b, c, d=4):\n",
    "    print(a, b, c, d)\n",
    "\n",
    "foo(1,2,3)\n",
    "foo(c=1, b=2, a=3)\n",
    "foo(1,2,3,7)\n"
   ]
  },
  {
   "cell_type": "code",
   "execution_count": 301,
   "metadata": {},
   "outputs": [
    {
     "name": "stdout",
     "output_type": "stream",
     "text": [
      "1 2\n",
      "3\n",
      "4\n",
      "5\n",
      "six 6\n",
      "seven 7\n"
     ]
    }
   ],
   "source": [
    "def foo(a, b, *args, **kwargs):\n",
    "    print(a, b)\n",
    "    for arg in args:\n",
    "        print(arg)\n",
    "    for key in kwargs:\n",
    "        print(key, kwargs[key])\n",
    "\n",
    "foo(1,2,3,4,5, six=6, seven=7)"
   ]
  },
  {
   "cell_type": "markdown",
   "metadata": {},
   "source": [
    "# Pandas"
   ]
  },
  {
   "cell_type": "code",
   "execution_count": 1,
   "metadata": {},
   "outputs": [
    {
     "data": {
      "text/html": [
       "<div>\n",
       "<style scoped>\n",
       "    .dataframe tbody tr th:only-of-type {\n",
       "        vertical-align: middle;\n",
       "    }\n",
       "\n",
       "    .dataframe tbody tr th {\n",
       "        vertical-align: top;\n",
       "    }\n",
       "\n",
       "    .dataframe thead th {\n",
       "        text-align: right;\n",
       "    }\n",
       "</style>\n",
       "<table border=\"1\" class=\"dataframe\">\n",
       "  <thead>\n",
       "    <tr style=\"text-align: right;\">\n",
       "      <th></th>\n",
       "      <th>Col1</th>\n",
       "      <th>Col2</th>\n",
       "    </tr>\n",
       "  </thead>\n",
       "  <tbody>\n",
       "    <tr>\n",
       "      <th>Row1</th>\n",
       "      <td>1</td>\n",
       "      <td>2</td>\n",
       "    </tr>\n",
       "    <tr>\n",
       "      <th>Row2</th>\n",
       "      <td>3</td>\n",
       "      <td>4</td>\n",
       "    </tr>\n",
       "  </tbody>\n",
       "</table>\n",
       "</div>"
      ],
      "text/plain": [
       "      Col1  Col2\n",
       "Row1     1     2\n",
       "Row2     3     4"
      ]
     },
     "execution_count": 1,
     "metadata": {},
     "output_type": "execute_result"
    }
   ],
   "source": [
    "import pandas as pd\n",
    "prod = pd.read_csv('Data/Production.Product.csv', sep='\\t')\n",
    "titanic = pd.read_csv('Data/titanic.csv')\n",
    "# Making Dataframe\n",
    "lis1 = [1,2]\n",
    "lis2 = [3,4]\n",
    "all_lists = [lis1, lis2]\n",
    "col = ['Col1', 'Col2']\n",
    "ind = ['Row1', 'Row2']\n",
    "\n",
    "df = pd.DataFrame(data=all_lists, index=ind, columns=col)\n",
    "df"
   ]
  },
  {
   "cell_type": "code",
   "execution_count": 18,
   "metadata": {},
   "outputs": [
    {
     "data": {
      "text/plain": [
       "[1, 2]"
      ]
     },
     "execution_count": 18,
     "metadata": {},
     "output_type": "execute_result"
    }
   ],
   "source": [
    "# Accessing row1, col2\n",
    "list(df.iloc[0])\n",
    "# df.at['Row1', 'Col2']\n",
    "# df.iat[0, 1]"
   ]
  },
  {
   "cell_type": "code",
   "execution_count": 15,
   "metadata": {
    "collapsed": true,
    "jupyter": {
     "outputs_hidden": true
    },
    "tags": []
   },
   "outputs": [
    {
     "data": {
      "text/html": [
       "<div>\n",
       "<style scoped>\n",
       "    .dataframe tbody tr th:only-of-type {\n",
       "        vertical-align: middle;\n",
       "    }\n",
       "\n",
       "    .dataframe tbody tr th {\n",
       "        vertical-align: top;\n",
       "    }\n",
       "\n",
       "    .dataframe thead th {\n",
       "        text-align: right;\n",
       "    }\n",
       "</style>\n",
       "<table border=\"1\" class=\"dataframe\">\n",
       "  <thead>\n",
       "    <tr style=\"text-align: right;\">\n",
       "      <th></th>\n",
       "      <th>PassengerId</th>\n",
       "      <th>Survived</th>\n",
       "      <th>Pclass</th>\n",
       "      <th>Name</th>\n",
       "      <th>Sex</th>\n",
       "      <th>Age</th>\n",
       "      <th>SibSp</th>\n",
       "      <th>Parch</th>\n",
       "      <th>Ticket</th>\n",
       "      <th>Fare</th>\n",
       "      <th>Cabin</th>\n",
       "      <th>Embarked</th>\n",
       "    </tr>\n",
       "  </thead>\n",
       "  <tbody>\n",
       "    <tr>\n",
       "      <th>0</th>\n",
       "      <td>1</td>\n",
       "      <td>0</td>\n",
       "      <td>3</td>\n",
       "      <td>Braund, Mr. Owen Harris</td>\n",
       "      <td>male</td>\n",
       "      <td>22.0</td>\n",
       "      <td>1</td>\n",
       "      <td>0</td>\n",
       "      <td>A/5 21171</td>\n",
       "      <td>7.2500</td>\n",
       "      <td>NaN</td>\n",
       "      <td>S</td>\n",
       "    </tr>\n",
       "    <tr>\n",
       "      <th>2</th>\n",
       "      <td>3</td>\n",
       "      <td>1</td>\n",
       "      <td>3</td>\n",
       "      <td>Heikkinen, Miss. Laina</td>\n",
       "      <td>female</td>\n",
       "      <td>26.0</td>\n",
       "      <td>0</td>\n",
       "      <td>0</td>\n",
       "      <td>STON/O2. 3101282</td>\n",
       "      <td>7.9250</td>\n",
       "      <td>NaN</td>\n",
       "      <td>S</td>\n",
       "    </tr>\n",
       "    <tr>\n",
       "      <th>3</th>\n",
       "      <td>4</td>\n",
       "      <td>1</td>\n",
       "      <td>1</td>\n",
       "      <td>Futrelle, Mrs. Jacques Heath (Lily May Peel)</td>\n",
       "      <td>female</td>\n",
       "      <td>35.0</td>\n",
       "      <td>1</td>\n",
       "      <td>0</td>\n",
       "      <td>113803</td>\n",
       "      <td>53.1000</td>\n",
       "      <td>C123</td>\n",
       "      <td>S</td>\n",
       "    </tr>\n",
       "    <tr>\n",
       "      <th>4</th>\n",
       "      <td>5</td>\n",
       "      <td>0</td>\n",
       "      <td>3</td>\n",
       "      <td>Allen, Mr. William Henry</td>\n",
       "      <td>male</td>\n",
       "      <td>35.0</td>\n",
       "      <td>0</td>\n",
       "      <td>0</td>\n",
       "      <td>373450</td>\n",
       "      <td>8.0500</td>\n",
       "      <td>NaN</td>\n",
       "      <td>S</td>\n",
       "    </tr>\n",
       "    <tr>\n",
       "      <th>5</th>\n",
       "      <td>6</td>\n",
       "      <td>0</td>\n",
       "      <td>3</td>\n",
       "      <td>Moran, Mr. James</td>\n",
       "      <td>male</td>\n",
       "      <td>NaN</td>\n",
       "      <td>0</td>\n",
       "      <td>0</td>\n",
       "      <td>330877</td>\n",
       "      <td>8.4583</td>\n",
       "      <td>NaN</td>\n",
       "      <td>Q</td>\n",
       "    </tr>\n",
       "    <tr>\n",
       "      <th>...</th>\n",
       "      <td>...</td>\n",
       "      <td>...</td>\n",
       "      <td>...</td>\n",
       "      <td>...</td>\n",
       "      <td>...</td>\n",
       "      <td>...</td>\n",
       "      <td>...</td>\n",
       "      <td>...</td>\n",
       "      <td>...</td>\n",
       "      <td>...</td>\n",
       "      <td>...</td>\n",
       "      <td>...</td>\n",
       "    </tr>\n",
       "    <tr>\n",
       "      <th>886</th>\n",
       "      <td>887</td>\n",
       "      <td>0</td>\n",
       "      <td>2</td>\n",
       "      <td>Montvila, Rev. Juozas</td>\n",
       "      <td>male</td>\n",
       "      <td>27.0</td>\n",
       "      <td>0</td>\n",
       "      <td>0</td>\n",
       "      <td>211536</td>\n",
       "      <td>13.0000</td>\n",
       "      <td>NaN</td>\n",
       "      <td>S</td>\n",
       "    </tr>\n",
       "    <tr>\n",
       "      <th>887</th>\n",
       "      <td>888</td>\n",
       "      <td>1</td>\n",
       "      <td>1</td>\n",
       "      <td>Graham, Miss. Margaret Edith</td>\n",
       "      <td>female</td>\n",
       "      <td>19.0</td>\n",
       "      <td>0</td>\n",
       "      <td>0</td>\n",
       "      <td>112053</td>\n",
       "      <td>30.0000</td>\n",
       "      <td>B42</td>\n",
       "      <td>S</td>\n",
       "    </tr>\n",
       "    <tr>\n",
       "      <th>888</th>\n",
       "      <td>889</td>\n",
       "      <td>0</td>\n",
       "      <td>3</td>\n",
       "      <td>Johnston, Miss. Catherine Helen \"Carrie\"</td>\n",
       "      <td>female</td>\n",
       "      <td>NaN</td>\n",
       "      <td>1</td>\n",
       "      <td>2</td>\n",
       "      <td>W./C. 6607</td>\n",
       "      <td>23.4500</td>\n",
       "      <td>NaN</td>\n",
       "      <td>S</td>\n",
       "    </tr>\n",
       "    <tr>\n",
       "      <th>889</th>\n",
       "      <td>890</td>\n",
       "      <td>1</td>\n",
       "      <td>1</td>\n",
       "      <td>Behr, Mr. Karl Howell</td>\n",
       "      <td>male</td>\n",
       "      <td>26.0</td>\n",
       "      <td>0</td>\n",
       "      <td>0</td>\n",
       "      <td>111369</td>\n",
       "      <td>30.0000</td>\n",
       "      <td>C148</td>\n",
       "      <td>C</td>\n",
       "    </tr>\n",
       "    <tr>\n",
       "      <th>890</th>\n",
       "      <td>891</td>\n",
       "      <td>0</td>\n",
       "      <td>3</td>\n",
       "      <td>Dooley, Mr. Patrick</td>\n",
       "      <td>male</td>\n",
       "      <td>32.0</td>\n",
       "      <td>0</td>\n",
       "      <td>0</td>\n",
       "      <td>370376</td>\n",
       "      <td>7.7500</td>\n",
       "      <td>NaN</td>\n",
       "      <td>Q</td>\n",
       "    </tr>\n",
       "  </tbody>\n",
       "</table>\n",
       "<p>780 rows × 12 columns</p>\n",
       "</div>"
      ],
      "text/plain": [
       "     PassengerId  Survived  Pclass  \\\n",
       "0              1         0       3   \n",
       "2              3         1       3   \n",
       "3              4         1       1   \n",
       "4              5         0       3   \n",
       "5              6         0       3   \n",
       "..           ...       ...     ...   \n",
       "886          887         0       2   \n",
       "887          888         1       1   \n",
       "888          889         0       3   \n",
       "889          890         1       1   \n",
       "890          891         0       3   \n",
       "\n",
       "                                             Name     Sex   Age  SibSp  Parch  \\\n",
       "0                         Braund, Mr. Owen Harris    male  22.0      1      0   \n",
       "2                          Heikkinen, Miss. Laina  female  26.0      0      0   \n",
       "3    Futrelle, Mrs. Jacques Heath (Lily May Peel)  female  35.0      1      0   \n",
       "4                        Allen, Mr. William Henry    male  35.0      0      0   \n",
       "5                                Moran, Mr. James    male   NaN      0      0   \n",
       "..                                            ...     ...   ...    ...    ...   \n",
       "886                         Montvila, Rev. Juozas    male  27.0      0      0   \n",
       "887                  Graham, Miss. Margaret Edith  female  19.0      0      0   \n",
       "888      Johnston, Miss. Catherine Helen \"Carrie\"  female   NaN      1      2   \n",
       "889                         Behr, Mr. Karl Howell    male  26.0      0      0   \n",
       "890                           Dooley, Mr. Patrick    male  32.0      0      0   \n",
       "\n",
       "               Ticket     Fare Cabin Embarked  \n",
       "0           A/5 21171   7.2500   NaN        S  \n",
       "2    STON/O2. 3101282   7.9250   NaN        S  \n",
       "3              113803  53.1000  C123        S  \n",
       "4              373450   8.0500   NaN        S  \n",
       "5              330877   8.4583   NaN        Q  \n",
       "..                ...      ...   ...      ...  \n",
       "886            211536  13.0000   NaN        S  \n",
       "887            112053  30.0000   B42        S  \n",
       "888        W./C. 6607  23.4500   NaN        S  \n",
       "889            111369  30.0000  C148        C  \n",
       "890            370376   7.7500   NaN        Q  \n",
       "\n",
       "[780 rows x 12 columns]"
      ]
     },
     "execution_count": 15,
     "metadata": {},
     "output_type": "execute_result"
    }
   ],
   "source": [
    "# Access\n",
    "titanic.iloc[20:25] # Rows 20-25\n",
    "titanic.loc[1, 'Sex'] # Row, column exact match\n",
    "titanic['Sex'] == 'male' # Get true/false statments for column\n",
    "titanic[titanic['Sex'] == 'male'] # Print df of matching values\n",
    "titanic[(titanic['Sex'] == 'male') & (titanic['Embarked'] == 'S')] # two or more values from different coloumns(And for both) less values\n",
    "titanic[(titanic['Sex'] == 'male') | (titanic['Embarked'] == 'S')] # either or (more values)"
   ]
  },
  {
   "cell_type": "code",
   "execution_count": 317,
   "metadata": {},
   "outputs": [
    {
     "name": "stdout",
     "output_type": "stream",
     "text": [
      "<class 'pandas.core.frame.DataFrame'>\n",
      "RangeIndex: 891 entries, 0 to 890\n",
      "Data columns (total 12 columns):\n",
      " #   Column       Non-Null Count  Dtype  \n",
      "---  ------       --------------  -----  \n",
      " 0   PassengerId  891 non-null    int64  \n",
      " 1   Survived     891 non-null    int64  \n",
      " 2   Pclass       891 non-null    int64  \n",
      " 3   Name         891 non-null    object \n",
      " 4   Sex          891 non-null    object \n",
      " 5   Age          714 non-null    float64\n",
      " 6   SibSp        891 non-null    int64  \n",
      " 7   Parch        891 non-null    int64  \n",
      " 8   Ticket       891 non-null    object \n",
      " 9   Fare         891 non-null    float64\n",
      " 10  Cabin        204 non-null    object \n",
      " 11  Embarked     889 non-null    object \n",
      "dtypes: float64(2), int64(5), object(5)\n",
      "memory usage: 83.7+ KB\n"
     ]
    },
    {
     "data": {
      "text/html": [
       "<div>\n",
       "<style scoped>\n",
       "    .dataframe tbody tr th:only-of-type {\n",
       "        vertical-align: middle;\n",
       "    }\n",
       "\n",
       "    .dataframe tbody tr th {\n",
       "        vertical-align: top;\n",
       "    }\n",
       "\n",
       "    .dataframe thead th {\n",
       "        text-align: right;\n",
       "    }\n",
       "</style>\n",
       "<table border=\"1\" class=\"dataframe\">\n",
       "  <thead>\n",
       "    <tr style=\"text-align: right;\">\n",
       "      <th></th>\n",
       "      <th>PassengerId</th>\n",
       "      <th>Survived</th>\n",
       "      <th>Pclass</th>\n",
       "      <th>Name</th>\n",
       "      <th>Sex</th>\n",
       "      <th>Age</th>\n",
       "      <th>SibSp</th>\n",
       "      <th>Parch</th>\n",
       "      <th>Ticket</th>\n",
       "      <th>Fare</th>\n",
       "      <th>Cabin</th>\n",
       "      <th>Embarked</th>\n",
       "      <th>gender</th>\n",
       "    </tr>\n",
       "  </thead>\n",
       "  <tbody>\n",
       "    <tr>\n",
       "      <th>0</th>\n",
       "      <td>1</td>\n",
       "      <td>0</td>\n",
       "      <td>3</td>\n",
       "      <td>Braund, Mr. Owen Harris</td>\n",
       "      <td>male</td>\n",
       "      <td>22.0</td>\n",
       "      <td>1</td>\n",
       "      <td>0</td>\n",
       "      <td>A/5 21171</td>\n",
       "      <td>7.2500</td>\n",
       "      <td>NaN</td>\n",
       "      <td>S</td>\n",
       "      <td>0</td>\n",
       "    </tr>\n",
       "    <tr>\n",
       "      <th>1</th>\n",
       "      <td>2</td>\n",
       "      <td>1</td>\n",
       "      <td>1</td>\n",
       "      <td>Cumings, Mrs. John Bradley (Florence Briggs Th...</td>\n",
       "      <td>female</td>\n",
       "      <td>38.0</td>\n",
       "      <td>1</td>\n",
       "      <td>0</td>\n",
       "      <td>PC 17599</td>\n",
       "      <td>71.2833</td>\n",
       "      <td>C85</td>\n",
       "      <td>C</td>\n",
       "      <td>1</td>\n",
       "    </tr>\n",
       "    <tr>\n",
       "      <th>2</th>\n",
       "      <td>3</td>\n",
       "      <td>1</td>\n",
       "      <td>3</td>\n",
       "      <td>Heikkinen, Miss. Laina</td>\n",
       "      <td>female</td>\n",
       "      <td>26.0</td>\n",
       "      <td>0</td>\n",
       "      <td>0</td>\n",
       "      <td>STON/O2. 3101282</td>\n",
       "      <td>7.9250</td>\n",
       "      <td>NaN</td>\n",
       "      <td>S</td>\n",
       "      <td>1</td>\n",
       "    </tr>\n",
       "    <tr>\n",
       "      <th>3</th>\n",
       "      <td>4</td>\n",
       "      <td>1</td>\n",
       "      <td>1</td>\n",
       "      <td>Futrelle, Mrs. Jacques Heath (Lily May Peel)</td>\n",
       "      <td>female</td>\n",
       "      <td>35.0</td>\n",
       "      <td>1</td>\n",
       "      <td>0</td>\n",
       "      <td>113803</td>\n",
       "      <td>53.1000</td>\n",
       "      <td>C123</td>\n",
       "      <td>S</td>\n",
       "      <td>1</td>\n",
       "    </tr>\n",
       "    <tr>\n",
       "      <th>4</th>\n",
       "      <td>5</td>\n",
       "      <td>0</td>\n",
       "      <td>3</td>\n",
       "      <td>Allen, Mr. William Henry</td>\n",
       "      <td>male</td>\n",
       "      <td>35.0</td>\n",
       "      <td>0</td>\n",
       "      <td>0</td>\n",
       "      <td>373450</td>\n",
       "      <td>8.0500</td>\n",
       "      <td>NaN</td>\n",
       "      <td>S</td>\n",
       "      <td>0</td>\n",
       "    </tr>\n",
       "  </tbody>\n",
       "</table>\n",
       "</div>"
      ],
      "text/plain": [
       "   PassengerId  Survived  Pclass  \\\n",
       "0            1         0       3   \n",
       "1            2         1       1   \n",
       "2            3         1       3   \n",
       "3            4         1       1   \n",
       "4            5         0       3   \n",
       "\n",
       "                                                Name     Sex   Age  SibSp  \\\n",
       "0                            Braund, Mr. Owen Harris    male  22.0      1   \n",
       "1  Cumings, Mrs. John Bradley (Florence Briggs Th...  female  38.0      1   \n",
       "2                             Heikkinen, Miss. Laina  female  26.0      0   \n",
       "3       Futrelle, Mrs. Jacques Heath (Lily May Peel)  female  35.0      1   \n",
       "4                           Allen, Mr. William Henry    male  35.0      0   \n",
       "\n",
       "   Parch            Ticket     Fare Cabin Embarked  gender  \n",
       "0      0         A/5 21171   7.2500   NaN        S       0  \n",
       "1      0          PC 17599  71.2833   C85        C       1  \n",
       "2      0  STON/O2. 3101282   7.9250   NaN        S       1  \n",
       "3      0            113803  53.1000  C123        S       1  \n",
       "4      0            373450   8.0500   NaN        S       0  "
      ]
     },
     "execution_count": 317,
     "metadata": {},
     "output_type": "execute_result"
    }
   ],
   "source": [
    "# Manipulate\n",
    "titanic.shape # Shape of DF, shape[0] = # of rows, shape[1] = # of columns\n",
    "titanic.info() # Info, column datatype readout\n",
    "titanic.describe() # Numbers of Data, .describe(percentiles=None, include=None, exclude=None, datetime_is_numeric=False).transpose()\n",
    "titanic.describe(include='object') # prod.describe(include='all')\n",
    "titanic.Survived.unique() # uniuqe values\n",
    "titanic.nunique() # unique COUNT\n",
    "titanic.sort_values('Pclass', ascending = False) # New dataframe sorted by that columns values\n",
    "titanic.Embarked.value_counts() # value count\n",
    "titanic.Survived.value_counts(dropna=False) # include nulls in value count\n",
    "titanic.Embarked.value_counts(normalize=True) * 100 # value count percentage\n",
    "titanic['gender'] = np.where(titanic['Sex'] == 'female', 1, 0) # create new column where condition is true (cond, True new value, False new value)\n",
    "titanic.select_dtypes('object').columns # print object columns\n",
    "titanic.select_dtypes('number').columns # print numeric columns\n",
    "titanic.isnull().sum() # list all nulls in dataframe\n",
    "titanic.fillna(value = {'Age': titanic['Age'].mean()}).head() # Fill missing value with mean\n",
    "titanic.set_option('display.max_columns', None) # also do max rows but not reccomended\n",
    "#titanic.index.name = 'column' -- change name of index"
   ]
  },
  {
   "cell_type": "code",
   "execution_count": 322,
   "metadata": {},
   "outputs": [
    {
     "data": {
      "text/html": [
       "<div>\n",
       "<style scoped>\n",
       "    .dataframe tbody tr th:only-of-type {\n",
       "        vertical-align: middle;\n",
       "    }\n",
       "\n",
       "    .dataframe tbody tr th {\n",
       "        vertical-align: top;\n",
       "    }\n",
       "\n",
       "    .dataframe thead th {\n",
       "        text-align: right;\n",
       "    }\n",
       "</style>\n",
       "<table border=\"1\" class=\"dataframe\">\n",
       "  <thead>\n",
       "    <tr style=\"text-align: right;\">\n",
       "      <th></th>\n",
       "      <th></th>\n",
       "      <th>Name</th>\n",
       "    </tr>\n",
       "    <tr>\n",
       "      <th>Class</th>\n",
       "      <th>Style</th>\n",
       "      <th></th>\n",
       "    </tr>\n",
       "  </thead>\n",
       "  <tbody>\n",
       "    <tr>\n",
       "      <th rowspan=\"2\" valign=\"top\">H</th>\n",
       "      <th>U</th>\n",
       "      <td>64</td>\n",
       "    </tr>\n",
       "    <tr>\n",
       "      <th>x</th>\n",
       "      <td>18</td>\n",
       "    </tr>\n",
       "    <tr>\n",
       "      <th rowspan=\"2\" valign=\"top\">L</th>\n",
       "      <th>U</th>\n",
       "      <td>68</td>\n",
       "    </tr>\n",
       "    <tr>\n",
       "      <th>x</th>\n",
       "      <td>29</td>\n",
       "    </tr>\n",
       "    <tr>\n",
       "      <th rowspan=\"3\" valign=\"top\">M</th>\n",
       "      <th>U</th>\n",
       "      <td>22</td>\n",
       "    </tr>\n",
       "    <tr>\n",
       "      <th>W</th>\n",
       "      <td>22</td>\n",
       "    </tr>\n",
       "    <tr>\n",
       "      <th>x</th>\n",
       "      <td>24</td>\n",
       "    </tr>\n",
       "    <tr>\n",
       "      <th rowspan=\"4\" valign=\"top\">x</th>\n",
       "      <th>M</th>\n",
       "      <td>7</td>\n",
       "    </tr>\n",
       "    <tr>\n",
       "      <th>U</th>\n",
       "      <td>22</td>\n",
       "    </tr>\n",
       "    <tr>\n",
       "      <th>W</th>\n",
       "      <td>6</td>\n",
       "    </tr>\n",
       "    <tr>\n",
       "      <th>x</th>\n",
       "      <td>222</td>\n",
       "    </tr>\n",
       "  </tbody>\n",
       "</table>\n",
       "</div>"
      ],
      "text/plain": [
       "             Name\n",
       "Class Style      \n",
       "H     U        64\n",
       "      x        18\n",
       "L     U        68\n",
       "      x        29\n",
       "M     U        22\n",
       "      W        22\n",
       "      x        24\n",
       "x     M         7\n",
       "      U        22\n",
       "      W         6\n",
       "      x       222"
      ]
     },
     "execution_count": 322,
     "metadata": {},
     "output_type": "execute_result"
    }
   ],
   "source": [
    "# Group by statements\n",
    "prod = pd.read_csv('Production.Product.csv', sep='\\t')\n",
    "\n",
    "# Max values of prices for different colors\n",
    "prod[['Color', 'ListPrice']].groupby('Color').max().sort_values('ListPrice', ascending=False)\n",
    "\n",
    "# here we can use 'x' as a dummy placeholder for nulls, simply to get consistent counts for all columns\n",
    "prod.fillna(value='x').groupby(['Color']).count()\n",
    "\n",
    "# Multindex column change\n",
    "prod.fillna(value='x').groupby(by=['Class', 'Style']).count()[['Name']]\n",
    "\n",
    "\n"
   ]
  },
  {
   "cell_type": "code",
   "execution_count": 326,
   "metadata": {},
   "outputs": [
    {
     "data": {
      "text/html": [
       "<div>\n",
       "<style scoped>\n",
       "    .dataframe tbody tr th:only-of-type {\n",
       "        vertical-align: middle;\n",
       "    }\n",
       "\n",
       "    .dataframe tbody tr th {\n",
       "        vertical-align: top;\n",
       "    }\n",
       "\n",
       "    .dataframe thead th {\n",
       "        text-align: right;\n",
       "    }\n",
       "</style>\n",
       "<table border=\"1\" class=\"dataframe\">\n",
       "  <thead>\n",
       "    <tr style=\"text-align: right;\">\n",
       "      <th></th>\n",
       "      <th>count</th>\n",
       "      <th>mean</th>\n",
       "    </tr>\n",
       "    <tr>\n",
       "      <th>Color</th>\n",
       "      <th></th>\n",
       "      <th></th>\n",
       "    </tr>\n",
       "  </thead>\n",
       "  <tbody>\n",
       "    <tr>\n",
       "      <th>Red</th>\n",
       "      <td>38</td>\n",
       "      <td>1401.950000</td>\n",
       "    </tr>\n",
       "    <tr>\n",
       "      <th>Yellow</th>\n",
       "      <td>36</td>\n",
       "      <td>959.091389</td>\n",
       "    </tr>\n",
       "    <tr>\n",
       "      <th>Blue</th>\n",
       "      <td>26</td>\n",
       "      <td>923.679231</td>\n",
       "    </tr>\n",
       "    <tr>\n",
       "      <th>Silver</th>\n",
       "      <td>43</td>\n",
       "      <td>850.305349</td>\n",
       "    </tr>\n",
       "    <tr>\n",
       "      <th>Black</th>\n",
       "      <td>93</td>\n",
       "      <td>725.121075</td>\n",
       "    </tr>\n",
       "    <tr>\n",
       "      <th>Grey</th>\n",
       "      <td>1</td>\n",
       "      <td>125.000000</td>\n",
       "    </tr>\n",
       "    <tr>\n",
       "      <th>Silver/Black</th>\n",
       "      <td>7</td>\n",
       "      <td>64.018571</td>\n",
       "    </tr>\n",
       "    <tr>\n",
       "      <th>Multi</th>\n",
       "      <td>8</td>\n",
       "      <td>59.865000</td>\n",
       "    </tr>\n",
       "    <tr>\n",
       "      <th>x</th>\n",
       "      <td>248</td>\n",
       "      <td>16.864194</td>\n",
       "    </tr>\n",
       "    <tr>\n",
       "      <th>White</th>\n",
       "      <td>4</td>\n",
       "      <td>9.245000</td>\n",
       "    </tr>\n",
       "  </tbody>\n",
       "</table>\n",
       "</div>"
      ],
      "text/plain": [
       "              count         mean\n",
       "Color                           \n",
       "Red              38  1401.950000\n",
       "Yellow           36   959.091389\n",
       "Blue             26   923.679231\n",
       "Silver           43   850.305349\n",
       "Black            93   725.121075\n",
       "Grey              1   125.000000\n",
       "Silver/Black      7    64.018571\n",
       "Multi             8    59.865000\n",
       "x               248    16.864194\n",
       "White             4     9.245000"
      ]
     },
     "execution_count": 326,
     "metadata": {},
     "output_type": "execute_result"
    }
   ],
   "source": [
    "#agg to simulate describe\n",
    "lis = ['count']\n",
    "lis.append('mean')\n",
    "prod.fillna(value={'Color': 'x'}).groupby('Color')['ListPrice'].agg(lis).sort_values(['mean'], ascending=False)"
   ]
  },
  {
   "cell_type": "markdown",
   "metadata": {},
   "source": [
    "# Miscellaneous"
   ]
  },
  {
   "cell_type": "code",
   "execution_count": 237,
   "metadata": {},
   "outputs": [
    {
     "name": "stdout",
     "output_type": "stream",
     "text": [
      "Jim - Salesman\n",
      "\n",
      "Dwight - Salesman\n",
      "\n",
      "Pam - Receptionist\n",
      "\n",
      "Michael - Manager\n",
      "\n",
      "Oscar - Accountant\n"
     ]
    }
   ],
   "source": [
    "# Opening files, r = read, w = write, a = append to end\n",
    "# r+ = read/write\n",
    "\n",
    "employee_file = open(\"employees.txt\", \"r\")\n",
    "#print(employee_file.readable())\n",
    "\n",
    "#print(employee_file.readline())\n",
    "\n",
    "#print(employee_file.read())\n",
    "\n",
    "#print(employee_file.readlines())\n",
    "\n",
    "for e in employee_file.readlines():\n",
    "    print(e)\n",
    "\n",
    "employee_file.close()"
   ]
  },
  {
   "cell_type": "code",
   "execution_count": 112,
   "metadata": {},
   "outputs": [
    {
     "name": "stdout",
     "output_type": "stream",
     "text": [
      "3\n",
      "[1, 2, 3]\n",
      "[4, 5, 6]\n",
      "[7, 8, 9]\n",
      "[0]\n"
     ]
    }
   ],
   "source": [
    "# Nested\n",
    "number_grid = [\n",
    "    [1,2,3],\n",
    "    [4,5,6],\n",
    "    [7,8,9],\n",
    "    [0]\n",
    "]\n",
    "\n",
    "print(number_grid[0][2])\n",
    "\n",
    "for row in number_grid:\n",
    "    print(row)"
   ]
  },
  {
   "cell_type": "code",
   "execution_count": 113,
   "metadata": {},
   "outputs": [
    {
     "name": "stdout",
     "output_type": "stream",
     "text": [
      "[1, 2, 3]\n",
      "1\n",
      "2\n",
      "3\n",
      "[4, 5, 6]\n",
      "4\n",
      "5\n",
      "6\n",
      "[7, 8, 9]\n",
      "7\n",
      "8\n",
      "9\n",
      "[0]\n",
      "0\n"
     ]
    }
   ],
   "source": [
    "for row in number_grid:\n",
    "    print(row)\n",
    "    for col in row:\n",
    "        print(col)"
   ]
  },
  {
   "cell_type": "code",
   "execution_count": 4,
   "metadata": {},
   "outputs": [
    {
     "name": "stdout",
     "output_type": "stream",
     "text": [
      "1\n",
      "2\n",
      "3\n",
      "4\n",
      "5\n",
      "6\n",
      "7\n",
      "8\n",
      "9\n",
      "10\n",
      "done\n"
     ]
    }
   ],
   "source": [
    "i = 1\n",
    "while i <= 10:\n",
    "    print(i)\n",
    "    i += 1\n",
    "print('done')"
   ]
  }
 ],
 "metadata": {
  "interpreter": {
   "hash": "616f6a4f92179ca46708cb1cb1765744fb1d4de925297a50ffbc1c3a0a4f2fe0"
  },
  "kernelspec": {
   "display_name": "Python 3 (ipykernel)",
   "language": "python",
   "name": "python3"
  },
  "language_info": {
   "codemirror_mode": {
    "name": "ipython",
    "version": 3
   },
   "file_extension": ".py",
   "mimetype": "text/x-python",
   "name": "python",
   "nbconvert_exporter": "python",
   "pygments_lexer": "ipython3",
   "version": "3.9.7"
  }
 },
 "nbformat": 4,
 "nbformat_minor": 4
}
