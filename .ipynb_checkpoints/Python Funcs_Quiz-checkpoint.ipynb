{
 "cells": [
  {
   "cell_type": "code",
   "execution_count": 1,
   "id": "f97202e8",
   "metadata": {},
   "outputs": [],
   "source": [
    "import pandas as pd\n",
    "import string\n",
    "import re"
   ]
  },
  {
   "cell_type": "markdown",
   "id": "b5e6369e",
   "metadata": {},
   "source": [
    "#### Question 1\n",
    "Write a [one-line] Python lambda function, named `lambdaAdder`, that will take two inputs: The first is a list and the second input should be an integer. The second parameter should be optional with a default value of 1. The result of the function (aka: whats returned) should be a new list where each element has been summed with the second parameter's value. **You must do this with a lambda function to receive credit**\n",
    "\n",
    "Note: \n",
    "    *Lambda functios do not start with def*"
   ]
  },
  {
   "cell_type": "code",
   "execution_count": 2,
   "id": "935fb89c",
   "metadata": {},
   "outputs": [],
   "source": [
    "lambdaAdder = lambda x,y=1: [i + y for i in x]\n",
    "mylist = [1,2,3,4,5,6,7]"
   ]
  },
  {
   "cell_type": "code",
   "execution_count": 3,
   "id": "97a74bf4",
   "metadata": {},
   "outputs": [
    {
     "data": {
      "text/plain": [
       "([2, 3, 4, 5, 6, 7, 8], [11, 12, 13, 14, 15, 16, 17])"
      ]
     },
     "execution_count": 3,
     "metadata": {},
     "output_type": "execute_result"
    }
   ],
   "source": [
    "lambdaAdder(mylist), lambdaAdder(mylist, 10)"
   ]
  },
  {
   "cell_type": "markdown",
   "id": "cc8f74a6",
   "metadata": {},
   "source": [
    "#### Question 2\n",
    "Write a Python function, named `listToDict`, that will take two lists as input. The resulting output should be a dictionary with keys coming from the first list and they values from the second. If the two input lists are not of equal size, return an error message."
   ]
  },
  {
   "cell_type": "code",
   "execution_count": 4,
   "id": "d2c35466",
   "metadata": {},
   "outputs": [],
   "source": [
    "def listToDict(list1, list2):\n",
    "    assert len(list1) == len(list2), \"Not of equal size!\"\n",
    "    return dict(zip(list1, list2))"
   ]
  },
  {
   "cell_type": "code",
   "execution_count": 5,
   "id": "3b0021e4",
   "metadata": {},
   "outputs": [
    {
     "data": {
      "text/plain": [
       "{'a': 1, 'b': 2, 'c': 3, 'd': 4, 'e': 5, 'f': 6, 'g': 7}"
      ]
     },
     "execution_count": 5,
     "metadata": {},
     "output_type": "execute_result"
    }
   ],
   "source": [
    "list2 = ['a','b','c','d','e','f','g']\n",
    "listToDict(list2, mylist)"
   ]
  },
  {
   "cell_type": "code",
   "execution_count": null,
   "id": "eceecd73",
   "metadata": {},
   "outputs": [],
   "source": []
  },
  {
   "cell_type": "markdown",
   "id": "c61b7938",
   "metadata": {},
   "source": [
    "#### Question 3\n",
    "Write a Python function, named `WordCount`, that will take a string as an input and count the number of words in the string. (This can be accomplished in a single line.)"
   ]
  },
  {
   "cell_type": "code",
   "execution_count": 6,
   "id": "92006aba",
   "metadata": {},
   "outputs": [],
   "source": [
    "#sample data\n",
    "macbeth = open('Data/Macbeth.txt').read()"
   ]
  },
  {
   "cell_type": "code",
   "execution_count": 28,
   "id": "4748f44c",
   "metadata": {},
   "outputs": [],
   "source": [
    "WordCount = lambda x: len(re.split(r\"[' '\\n]\", x.strip()))"
   ]
  },
  {
   "cell_type": "code",
   "execution_count": 29,
   "id": "8340d58b",
   "metadata": {},
   "outputs": [
    {
     "data": {
      "text/plain": [
       "18884"
      ]
     },
     "execution_count": 29,
     "metadata": {},
     "output_type": "execute_result"
    }
   ],
   "source": [
    "WordCount(macbeth)"
   ]
  },
  {
   "cell_type": "markdown",
   "id": "765ca70c",
   "metadata": {},
   "source": [
    "#### Question 4\n",
    "Write a Python function, named `UniqueChars`,  that  will  that will take a string as an input, converts the text to all lowercase, and then returns a list of tuples containing all of the unique alpha characters (characters being A-Z. Not actors in macbeth) in the text file paired with how many times that character appears. (ex. [(a,78), (b,16), ...]). The list should be ordered a-z"
   ]
  },
  {
   "cell_type": "code",
   "execution_count": 11,
   "id": "fe3166f9",
   "metadata": {},
   "outputs": [],
   "source": [
    "az = string.ascii_lowercase\n",
    "def UniqueChars(st):\n",
    "    s = st.lower() \n",
    "    lis = []\n",
    "    lis2 = []\n",
    "    tup = tuple()\n",
    "    for c in s:\n",
    "        lis.append(c)\n",
    "    for i in az:\n",
    "        tup = lis.count(i)\n",
    "        lis2.append(tup)\n",
    "    mask = dict(zip(list(az), lis2))\n",
    "    lis3 = list(mask.items())\n",
    "    return lis3"
   ]
  },
  {
   "cell_type": "code",
   "execution_count": 12,
   "id": "6a3d803e",
   "metadata": {},
   "outputs": [
    {
     "data": {
      "text/plain": [
       "[('a', 6031),\n",
       " ('b', 1467),\n",
       " ('c', 2157),\n",
       " ('d', 3341),\n",
       " ('e', 9307),\n",
       " ('f', 1704),\n",
       " ('g', 1338),\n",
       " ('h', 5273),\n",
       " ('i', 4675),\n",
       " ('j', 38),\n",
       " ('k', 691),\n",
       " ('l', 3306),\n",
       " ('m', 2482),\n",
       " ('n', 5010),\n",
       " ('o', 6062),\n",
       " ('p', 1003),\n",
       " ('q', 121),\n",
       " ('r', 4534),\n",
       " ('s', 4956),\n",
       " ('t', 7088),\n",
       " ('u', 2596),\n",
       " ('v', 657),\n",
       " ('w', 1940),\n",
       " ('x', 112),\n",
       " ('y', 1639),\n",
       " ('z', 15)]"
      ]
     },
     "execution_count": 12,
     "metadata": {},
     "output_type": "execute_result"
    }
   ],
   "source": [
    "UniqueChars(macbeth)"
   ]
  },
  {
   "cell_type": "markdown",
   "id": "3e1c660e",
   "metadata": {},
   "source": [
    "#### Question 5\n",
    "Write a Python function, named txtToPd,that will take a string as input and will output the data from the string as a pandas DF. For this exercise, assume all columns in the string are separated by '\\t' and that all rows are separated by '\\n'. The string will contain headers. Refer to the below sample strings for formatting.\n",
    "\n",
    "Notes: \n",
    "   *not all input strings will require the same number of columns* <br/>\n",
    "   *numeric values should be cast accordingly -- cosider the way of try/except* <br/>\n",
    "   *The .split() method would be very helpful here* <br/>\n",
    "   *check your resulting dataframes for any errors*"
   ]
  },
  {
   "cell_type": "code",
   "execution_count": 13,
   "id": "9f64b339",
   "metadata": {},
   "outputs": [],
   "source": [
    "#sample strings\n",
    "actors_str = open('Data/movies/actors.txt').read()\n",
    "movies_str = open('Data/movies/movies.txt').read()\n",
    "isin_str = open('Data/movies/isin.txt').read()"
   ]
  },
  {
   "cell_type": "code",
   "execution_count": 14,
   "id": "62e2c626",
   "metadata": {},
   "outputs": [],
   "source": [
    "def txtToPd(string):\n",
    "    new = re.split(r\"[\\t\\n]\", string.strip())\n",
    "    lis2 = []\n",
    "    index = []\n",
    "    for i in new:\n",
    "        try:\n",
    "            i = int(i)\n",
    "            lis2.append(i)\n",
    "        except:\n",
    "            lis2.append(i)\n",
    "    count = 0\n",
    "    for i in lis2:\n",
    "        count+=1\n",
    "        if isinstance(i, int) == True:\n",
    "            break\n",
    "        else:\n",
    "            continue\n",
    "    index = pd.DataFrame([i for i in lis2[::(count-1)]])\n",
    "    firstc = pd.DataFrame([i for i in lis2[1::(count-1)]])\n",
    "    secondc = pd.DataFrame([i for i in lis2[2::(count-1)]])\n",
    "    if (count-1)>3:\n",
    "        thirdc = pd.DataFrame([i for i in lis2[3::(count-1)]])\n",
    "        df = pd.concat([index, firstc, secondc, thirdc], axis=1)\n",
    "    else:\n",
    "        df = pd.concat([index, firstc, secondc], axis=1)\n",
    "    header = df.iloc[0]\n",
    "    df = df.iloc[1:]\n",
    "    df.columns = header\n",
    "    return df"
   ]
  },
  {
   "cell_type": "code",
   "execution_count": 15,
   "id": "65748bbf",
   "metadata": {},
   "outputs": [
    {
     "data": {
      "text/html": [
       "<div>\n",
       "<style scoped>\n",
       "    .dataframe tbody tr th:only-of-type {\n",
       "        vertical-align: middle;\n",
       "    }\n",
       "\n",
       "    .dataframe tbody tr th {\n",
       "        vertical-align: top;\n",
       "    }\n",
       "\n",
       "    .dataframe thead th {\n",
       "        text-align: right;\n",
       "    }\n",
       "</style>\n",
       "<table border=\"1\" class=\"dataframe\">\n",
       "  <thead>\n",
       "    <tr style=\"text-align: right;\">\n",
       "      <th></th>\n",
       "      <th>mid</th>\n",
       "      <th>title</th>\n",
       "      <th>year</th>\n",
       "      <th>grade</th>\n",
       "    </tr>\n",
       "  </thead>\n",
       "  <tbody>\n",
       "    <tr>\n",
       "      <th>1</th>\n",
       "      <td>1</td>\n",
       "      <td>A Face in the Crowd</td>\n",
       "      <td>1957</td>\n",
       "      <td>9</td>\n",
       "    </tr>\n",
       "    <tr>\n",
       "      <th>2</th>\n",
       "      <td>2</td>\n",
       "      <td>A Perfect Couple</td>\n",
       "      <td>1979</td>\n",
       "      <td>6</td>\n",
       "    </tr>\n",
       "    <tr>\n",
       "      <th>3</th>\n",
       "      <td>3</td>\n",
       "      <td>A Touch of Evil</td>\n",
       "      <td>1958</td>\n",
       "      <td>9</td>\n",
       "    </tr>\n",
       "    <tr>\n",
       "      <th>4</th>\n",
       "      <td>4</td>\n",
       "      <td>Across the Universe</td>\n",
       "      <td>2007</td>\n",
       "      <td>6</td>\n",
       "    </tr>\n",
       "    <tr>\n",
       "      <th>5</th>\n",
       "      <td>5</td>\n",
       "      <td>Amadeus</td>\n",
       "      <td>1983</td>\n",
       "      <td>9</td>\n",
       "    </tr>\n",
       "    <tr>\n",
       "      <th>...</th>\n",
       "      <td>...</td>\n",
       "      <td>...</td>\n",
       "      <td>...</td>\n",
       "      <td>...</td>\n",
       "    </tr>\n",
       "    <tr>\n",
       "      <th>796</th>\n",
       "      <td>796</td>\n",
       "      <td>Arsenic and Old Lace</td>\n",
       "      <td>1944</td>\n",
       "      <td>8</td>\n",
       "    </tr>\n",
       "    <tr>\n",
       "      <th>797</th>\n",
       "      <td>797</td>\n",
       "      <td>The Magic of Belle Isle</td>\n",
       "      <td>2012</td>\n",
       "      <td>5</td>\n",
       "    </tr>\n",
       "    <tr>\n",
       "      <th>798</th>\n",
       "      <td>798</td>\n",
       "      <td>The Women on the Sixth Floor</td>\n",
       "      <td>2010</td>\n",
       "      <td>7</td>\n",
       "    </tr>\n",
       "    <tr>\n",
       "      <th>799</th>\n",
       "      <td>799</td>\n",
       "      <td>Days of Heaven</td>\n",
       "      <td>1978</td>\n",
       "      <td>8</td>\n",
       "    </tr>\n",
       "    <tr>\n",
       "      <th>800</th>\n",
       "      <td>800</td>\n",
       "      <td>Paulie</td>\n",
       "      <td>1998</td>\n",
       "      <td>5</td>\n",
       "    </tr>\n",
       "  </tbody>\n",
       "</table>\n",
       "<p>800 rows × 4 columns</p>\n",
       "</div>"
      ],
      "text/plain": [
       "0    mid                         title  year grade\n",
       "1      1           A Face in the Crowd  1957     9\n",
       "2      2              A Perfect Couple  1979     6\n",
       "3      3               A Touch of Evil  1958     9\n",
       "4      4           Across the Universe  2007     6\n",
       "5      5                       Amadeus  1983     9\n",
       "..   ...                           ...   ...   ...\n",
       "796  796          Arsenic and Old Lace  1944     8\n",
       "797  797       The Magic of Belle Isle  2012     5\n",
       "798  798  The Women on the Sixth Floor  2010     7\n",
       "799  799                Days of Heaven  1978     8\n",
       "800  800                        Paulie  1998     5\n",
       "\n",
       "[800 rows x 4 columns]"
      ]
     },
     "execution_count": 15,
     "metadata": {},
     "output_type": "execute_result"
    }
   ],
   "source": [
    "txtToPd(movies_str)"
   ]
  },
  {
   "cell_type": "code",
   "execution_count": 16,
   "id": "45c9af7d-f449-4d4f-8d43-d896690e5d01",
   "metadata": {},
   "outputs": [
    {
     "data": {
      "text/html": [
       "<div>\n",
       "<style scoped>\n",
       "    .dataframe tbody tr th:only-of-type {\n",
       "        vertical-align: middle;\n",
       "    }\n",
       "\n",
       "    .dataframe tbody tr th {\n",
       "        vertical-align: top;\n",
       "    }\n",
       "\n",
       "    .dataframe thead th {\n",
       "        text-align: right;\n",
       "    }\n",
       "</style>\n",
       "<table border=\"1\" class=\"dataframe\">\n",
       "  <thead>\n",
       "    <tr style=\"text-align: right;\">\n",
       "      <th></th>\n",
       "      <th>aid</th>\n",
       "      <th>firstname</th>\n",
       "      <th>lastname</th>\n",
       "    </tr>\n",
       "  </thead>\n",
       "  <tbody>\n",
       "    <tr>\n",
       "      <th>1</th>\n",
       "      <td>1</td>\n",
       "      <td>Leonardo</td>\n",
       "      <td>DiCaprio</td>\n",
       "    </tr>\n",
       "    <tr>\n",
       "      <th>2</th>\n",
       "      <td>2</td>\n",
       "      <td>Andy</td>\n",
       "      <td>Griffith</td>\n",
       "    </tr>\n",
       "    <tr>\n",
       "      <th>3</th>\n",
       "      <td>3</td>\n",
       "      <td>Walter</td>\n",
       "      <td>Matthau</td>\n",
       "    </tr>\n",
       "    <tr>\n",
       "      <th>4</th>\n",
       "      <td>4</td>\n",
       "      <td>Orson</td>\n",
       "      <td>Welles</td>\n",
       "    </tr>\n",
       "    <tr>\n",
       "      <th>5</th>\n",
       "      <td>5</td>\n",
       "      <td>F. Murray</td>\n",
       "      <td>Abraham</td>\n",
       "    </tr>\n",
       "    <tr>\n",
       "      <th>...</th>\n",
       "      <td>...</td>\n",
       "      <td>...</td>\n",
       "      <td>...</td>\n",
       "    </tr>\n",
       "    <tr>\n",
       "      <th>752</th>\n",
       "      <td>752</td>\n",
       "      <td>Lee</td>\n",
       "      <td>Majors</td>\n",
       "    </tr>\n",
       "    <tr>\n",
       "      <th>753</th>\n",
       "      <td>753</td>\n",
       "      <td>Pat</td>\n",
       "      <td>McCormick</td>\n",
       "    </tr>\n",
       "    <tr>\n",
       "      <th>754</th>\n",
       "      <td>754</td>\n",
       "      <td>Raymond</td>\n",
       "      <td>Massey</td>\n",
       "    </tr>\n",
       "    <tr>\n",
       "      <th>755</th>\n",
       "      <td>755</td>\n",
       "      <td>Leonard</td>\n",
       "      <td>Nimoy</td>\n",
       "    </tr>\n",
       "    <tr>\n",
       "      <th>756</th>\n",
       "      <td>756</td>\n",
       "      <td>Jim</td>\n",
       "      <td>Varney</td>\n",
       "    </tr>\n",
       "  </tbody>\n",
       "</table>\n",
       "<p>756 rows × 3 columns</p>\n",
       "</div>"
      ],
      "text/plain": [
       "0    aid  firstname   lastname\n",
       "1      1   Leonardo   DiCaprio\n",
       "2      2       Andy   Griffith\n",
       "3      3     Walter    Matthau\n",
       "4      4      Orson     Welles\n",
       "5      5  F. Murray    Abraham\n",
       "..   ...        ...        ...\n",
       "752  752        Lee     Majors\n",
       "753  753        Pat  McCormick\n",
       "754  754    Raymond     Massey\n",
       "755  755    Leonard      Nimoy\n",
       "756  756        Jim     Varney\n",
       "\n",
       "[756 rows x 3 columns]"
      ]
     },
     "execution_count": 16,
     "metadata": {},
     "output_type": "execute_result"
    }
   ],
   "source": [
    "txtToPd(actors_str)"
   ]
  },
  {
   "cell_type": "code",
   "execution_count": 17,
   "id": "e4c213e1-23f9-4538-aca0-8bfb57e9923c",
   "metadata": {},
   "outputs": [
    {
     "data": {
      "text/html": [
       "<div>\n",
       "<style scoped>\n",
       "    .dataframe tbody tr th:only-of-type {\n",
       "        vertical-align: middle;\n",
       "    }\n",
       "\n",
       "    .dataframe tbody tr th {\n",
       "        vertical-align: top;\n",
       "    }\n",
       "\n",
       "    .dataframe thead th {\n",
       "        text-align: right;\n",
       "    }\n",
       "</style>\n",
       "<table border=\"1\" class=\"dataframe\">\n",
       "  <thead>\n",
       "    <tr style=\"text-align: right;\">\n",
       "      <th></th>\n",
       "      <th>id</th>\n",
       "      <th>mid</th>\n",
       "      <th>aid</th>\n",
       "    </tr>\n",
       "  </thead>\n",
       "  <tbody>\n",
       "    <tr>\n",
       "      <th>1</th>\n",
       "      <td>1</td>\n",
       "      <td>3</td>\n",
       "      <td>4</td>\n",
       "    </tr>\n",
       "    <tr>\n",
       "      <th>2</th>\n",
       "      <td>2</td>\n",
       "      <td>2</td>\n",
       "      <td>2</td>\n",
       "    </tr>\n",
       "    <tr>\n",
       "      <th>3</th>\n",
       "      <td>3</td>\n",
       "      <td>2</td>\n",
       "      <td>3</td>\n",
       "    </tr>\n",
       "    <tr>\n",
       "      <th>4</th>\n",
       "      <td>4</td>\n",
       "      <td>5</td>\n",
       "      <td>5</td>\n",
       "    </tr>\n",
       "    <tr>\n",
       "      <th>5</th>\n",
       "      <td>5</td>\n",
       "      <td>6</td>\n",
       "      <td>6</td>\n",
       "    </tr>\n",
       "    <tr>\n",
       "      <th>...</th>\n",
       "      <td>...</td>\n",
       "      <td>...</td>\n",
       "      <td>...</td>\n",
       "    </tr>\n",
       "    <tr>\n",
       "      <th>2359</th>\n",
       "      <td>2359</td>\n",
       "      <td>9</td>\n",
       "      <td>11</td>\n",
       "    </tr>\n",
       "    <tr>\n",
       "      <th>2360</th>\n",
       "      <td>2360</td>\n",
       "      <td>9</td>\n",
       "      <td>52</td>\n",
       "    </tr>\n",
       "    <tr>\n",
       "      <th>2361</th>\n",
       "      <td>2361</td>\n",
       "      <td>9</td>\n",
       "      <td>755</td>\n",
       "    </tr>\n",
       "    <tr>\n",
       "      <th>2362</th>\n",
       "      <td>2362</td>\n",
       "      <td>9</td>\n",
       "      <td>254</td>\n",
       "    </tr>\n",
       "    <tr>\n",
       "      <th>2363</th>\n",
       "      <td>2363</td>\n",
       "      <td>9</td>\n",
       "      <td>756</td>\n",
       "    </tr>\n",
       "  </tbody>\n",
       "</table>\n",
       "<p>2363 rows × 3 columns</p>\n",
       "</div>"
      ],
      "text/plain": [
       "0       id mid  aid\n",
       "1        1   3    4\n",
       "2        2   2    2\n",
       "3        3   2    3\n",
       "4        4   5    5\n",
       "5        5   6    6\n",
       "...    ...  ..  ...\n",
       "2359  2359   9   11\n",
       "2360  2360   9   52\n",
       "2361  2361   9  755\n",
       "2362  2362   9  254\n",
       "2363  2363   9  756\n",
       "\n",
       "[2363 rows x 3 columns]"
      ]
     },
     "execution_count": 17,
     "metadata": {},
     "output_type": "execute_result"
    }
   ],
   "source": [
    "txtToPd(isin_str)"
   ]
  },
  {
   "cell_type": "markdown",
   "id": "2b845209",
   "metadata": {},
   "source": [
    "##### Question 5b\n",
    "Usnig your txtToPd function above, create a dataframe for each of the 3 text data provided: actors_str, movies_str, and isin_str. Name the resulting dataframes: actors_df, movies_df, and isin_df, respectively. "
   ]
  },
  {
   "cell_type": "code",
   "execution_count": 18,
   "id": "22a9e04c",
   "metadata": {},
   "outputs": [],
   "source": [
    "actors_df = txtToPd(actors_str)\n",
    "movies_df = txtToPd(movies_str)\n",
    "isin_df = txtToPd(isin_str)"
   ]
  },
  {
   "cell_type": "markdown",
   "id": "5775e557",
   "metadata": {},
   "source": [
    "#### Question 6\n",
    "Write a Python function, named `castCount`,that will take an actor/actress as an input and return how many times that person has been cast in the movies present in movies_df. The input for your function should consist of two required parameters of `firstname` and `lastname`. If there is no entity matching the inputted firstname and lastname, return -1. The function should be able to handle strange casing (ex. \"DaViD\"). For the sake of simplicity, assume the input must be a direct match."
   ]
  },
  {
   "cell_type": "code",
   "execution_count": 19,
   "id": "d3756acc",
   "metadata": {},
   "outputs": [],
   "source": [
    "def castCount(first, last):\n",
    "    df = movies_df.merge(isin_df, on=['mid']).merge(actors_df, on=['aid'])\n",
    "    first, last = first.title(), last.title()\n",
    "    return df[(df.firstname == first) & (df.lastname == last)].shape[0]"
   ]
  },
  {
   "cell_type": "code",
   "execution_count": 20,
   "id": "cce31839",
   "metadata": {},
   "outputs": [
    {
     "data": {
      "text/plain": [
       "2"
      ]
     },
     "execution_count": 20,
     "metadata": {},
     "output_type": "execute_result"
    }
   ],
   "source": [
    "castCount('lEe', 'rEmIck')"
   ]
  },
  {
   "cell_type": "markdown",
   "id": "ea469677",
   "metadata": {},
   "source": [
    "#### Question 7\n",
    "Write a function named `TwoNames2Movies`. This will return a list of the titles of movies that two \n",
    "actors/actresses are in. The inputs are (firstname1, lastname1, firstname2, lastname2.\n",
    "\n",
    "*For the sake of simplicity, the function can assume actors_df, movies_df, and isin_df exist in the global scope*"
   ]
  },
  {
   "cell_type": "code",
   "execution_count": 21,
   "id": "f71c767b",
   "metadata": {},
   "outputs": [],
   "source": [
    "def TwoNames2Movies(f1, l1, f2, l2):\n",
    "    lis = []\n",
    "    f1, l1, f2, l2 = f1.title(), l1.title(), f2.title(), l2.title()\n",
    "    df = movies_df.merge(isin_df, on=['mid']).merge(actors_df, on=['aid'])\n",
    "    df2 = df[(df.firstname == f1) & (df.lastname == l1) | (df.firstname == f2) & (df.lastname == l2)].title\n",
    "    lis.extend(df2[df2.duplicated()].tolist())\n",
    "    return lis"
   ]
  },
  {
   "cell_type": "code",
   "execution_count": 23,
   "id": "03603117",
   "metadata": {},
   "outputs": [
    {
     "data": {
      "text/html": [
       "<div>\n",
       "<style scoped>\n",
       "    .dataframe tbody tr th:only-of-type {\n",
       "        vertical-align: middle;\n",
       "    }\n",
       "\n",
       "    .dataframe tbody tr th {\n",
       "        vertical-align: top;\n",
       "    }\n",
       "\n",
       "    .dataframe thead th {\n",
       "        text-align: right;\n",
       "    }\n",
       "</style>\n",
       "<table border=\"1\" class=\"dataframe\">\n",
       "  <thead>\n",
       "    <tr style=\"text-align: right;\">\n",
       "      <th></th>\n",
       "      <th>mid</th>\n",
       "      <th>title</th>\n",
       "      <th>year</th>\n",
       "      <th>grade</th>\n",
       "      <th>id</th>\n",
       "      <th>aid</th>\n",
       "      <th>firstname</th>\n",
       "      <th>lastname</th>\n",
       "    </tr>\n",
       "  </thead>\n",
       "  <tbody>\n",
       "    <tr>\n",
       "      <th>1</th>\n",
       "      <td>636</td>\n",
       "      <td>The Omen</td>\n",
       "      <td>1976</td>\n",
       "      <td>5</td>\n",
       "      <td>2050</td>\n",
       "      <td>684</td>\n",
       "      <td>Lee</td>\n",
       "      <td>Remick</td>\n",
       "    </tr>\n",
       "    <tr>\n",
       "      <th>1775</th>\n",
       "      <td>636</td>\n",
       "      <td>The Omen</td>\n",
       "      <td>1976</td>\n",
       "      <td>5</td>\n",
       "      <td>2049</td>\n",
       "      <td>429</td>\n",
       "      <td>Gregory</td>\n",
       "      <td>Peck</td>\n",
       "    </tr>\n",
       "  </tbody>\n",
       "</table>\n",
       "</div>"
      ],
      "text/plain": [
       "0     mid     title  year grade    id  aid firstname lastname\n",
       "1     636  The Omen  1976     5  2050  684       Lee   Remick\n",
       "1775  636  The Omen  1976     5  2049  429   Gregory     Peck"
      ]
     },
     "execution_count": 23,
     "metadata": {},
     "output_type": "execute_result"
    }
   ],
   "source": [
    "comb = movies_df.merge(isin_df, on=['mid']).merge(actors_df, on=['aid'])\n",
    "comb[comb.title == 'The Omen']"
   ]
  },
  {
   "cell_type": "code",
   "execution_count": 24,
   "id": "83ae65a3",
   "metadata": {},
   "outputs": [
    {
     "data": {
      "text/plain": [
       "['The Omen']"
      ]
     },
     "execution_count": 24,
     "metadata": {},
     "output_type": "execute_result"
    }
   ],
   "source": [
    "TwoNames2Movies('LEe', 'ReMick', 'grEgOry', 'pEck')"
   ]
  },
  {
   "cell_type": "markdown",
   "id": "086618c6",
   "metadata": {},
   "source": [
    "#### Question 8\n",
    "Write a function named `bestPerformer`. The input should be nmovies, a scalar value (integer). nmovies should \n",
    "have a default value of 5. The output is firstname, lastname, averageGrade of the actor/actress with the highest \n",
    "average movie grade. The variable nmovies is the minimum number of movies that the actor/actress has been in. However, your function should allow the user to change that variable to a different number when the function is called.\n",
    "Thus, if the user wanted to require at least 6 movies then all they would have to do is,\n",
    "\n",
    "bestPerformer(6) <br/>\n",
    "*If there is a tie amongst performers, output the first in alphabetical order*"
   ]
  },
  {
   "cell_type": "code",
   "execution_count": 25,
   "id": "358607d9",
   "metadata": {},
   "outputs": [],
   "source": [
    "def bestPerformer(nmovies=5):\n",
    "    df = movies_df.merge(isin_df, on=['mid']).merge(actors_df, on=['aid'])\n",
    "    a_count = df.groupby(['aid', 'firstname', 'lastname']).count().reset_index()[['aid','firstname','lastname','title']]\n",
    "    grade = df.groupby(['aid'])[['grade']].mean().reset_index() \n",
    "    both = a_count.merge(grade,on='aid')\n",
    "    both = both[both.title == nmovies].sort_values('grade', ascending=False)[['firstname', 'lastname','grade']].rename(columns={'grade':'Avg Grade', 'firstname':'First Name', 'lastname':'Last Name'})\n",
    "    score = both.iloc[0,2]\n",
    "    count = 0\n",
    "    for i in both['Avg Grade']:\n",
    "        if i == score:\n",
    "            count += 1\n",
    "    return both.iloc[0:count].sort_values('First Name').reset_index(drop=True)"
   ]
  },
  {
   "cell_type": "code",
   "execution_count": 26,
   "id": "7244a8cc",
   "metadata": {},
   "outputs": [
    {
     "data": {
      "text/html": [
       "<div>\n",
       "<style scoped>\n",
       "    .dataframe tbody tr th:only-of-type {\n",
       "        vertical-align: middle;\n",
       "    }\n",
       "\n",
       "    .dataframe tbody tr th {\n",
       "        vertical-align: top;\n",
       "    }\n",
       "\n",
       "    .dataframe thead th {\n",
       "        text-align: right;\n",
       "    }\n",
       "</style>\n",
       "<table border=\"1\" class=\"dataframe\">\n",
       "  <thead>\n",
       "    <tr style=\"text-align: right;\">\n",
       "      <th></th>\n",
       "      <th>First Name</th>\n",
       "      <th>Last Name</th>\n",
       "      <th>Avg Grade</th>\n",
       "    </tr>\n",
       "  </thead>\n",
       "  <tbody>\n",
       "    <tr>\n",
       "      <th>0</th>\n",
       "      <td>Leo G.</td>\n",
       "      <td>Carroll</td>\n",
       "      <td>8.4</td>\n",
       "    </tr>\n",
       "  </tbody>\n",
       "</table>\n",
       "</div>"
      ],
      "text/plain": [
       "0 First Name Last Name  Avg Grade\n",
       "0     Leo G.   Carroll        8.4"
      ]
     },
     "execution_count": 26,
     "metadata": {},
     "output_type": "execute_result"
    }
   ],
   "source": [
    "bestPerformer()"
   ]
  },
  {
   "cell_type": "code",
   "execution_count": 27,
   "id": "778c8a64-482c-4cab-871d-2147908bb936",
   "metadata": {},
   "outputs": [
    {
     "data": {
      "text/html": [
       "<div>\n",
       "<style scoped>\n",
       "    .dataframe tbody tr th:only-of-type {\n",
       "        vertical-align: middle;\n",
       "    }\n",
       "\n",
       "    .dataframe tbody tr th {\n",
       "        vertical-align: top;\n",
       "    }\n",
       "\n",
       "    .dataframe thead th {\n",
       "        text-align: right;\n",
       "    }\n",
       "</style>\n",
       "<table border=\"1\" class=\"dataframe\">\n",
       "  <thead>\n",
       "    <tr style=\"text-align: right;\">\n",
       "      <th></th>\n",
       "      <th>First Name</th>\n",
       "      <th>Last Name</th>\n",
       "      <th>Avg Grade</th>\n",
       "    </tr>\n",
       "  </thead>\n",
       "  <tbody>\n",
       "    <tr>\n",
       "      <th>0</th>\n",
       "      <td>Debra</td>\n",
       "      <td>Winger</td>\n",
       "      <td>10.0</td>\n",
       "    </tr>\n",
       "    <tr>\n",
       "      <th>1</th>\n",
       "      <td>Marion</td>\n",
       "      <td>Cotillard</td>\n",
       "      <td>10.0</td>\n",
       "    </tr>\n",
       "    <tr>\n",
       "      <th>2</th>\n",
       "      <td>Zdenek</td>\n",
       "      <td>Sverak</td>\n",
       "      <td>10.0</td>\n",
       "    </tr>\n",
       "  </tbody>\n",
       "</table>\n",
       "</div>"
      ],
      "text/plain": [
       "0 First Name  Last Name  Avg Grade\n",
       "0      Debra     Winger       10.0\n",
       "1     Marion  Cotillard       10.0\n",
       "2     Zdenek     Sverak       10.0"
      ]
     },
     "execution_count": 27,
     "metadata": {},
     "output_type": "execute_result"
    }
   ],
   "source": [
    "bestPerformer(2)"
   ]
  },
  {
   "cell_type": "code",
   "execution_count": null,
   "id": "a5404895-6950-473f-b8ed-f2b056990fe2",
   "metadata": {},
   "outputs": [],
   "source": []
  }
 ],
 "metadata": {
  "kernelspec": {
   "display_name": "Python 3 (ipykernel)",
   "language": "python",
   "name": "python3"
  },
  "language_info": {
   "codemirror_mode": {
    "name": "ipython",
    "version": 3
   },
   "file_extension": ".py",
   "mimetype": "text/x-python",
   "name": "python",
   "nbconvert_exporter": "python",
   "pygments_lexer": "ipython3",
   "version": "3.9.7"
  }
 },
 "nbformat": 4,
 "nbformat_minor": 5
}
